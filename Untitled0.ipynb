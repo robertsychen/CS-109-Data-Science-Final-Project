{
 "metadata": {
  "name": "",
  "signature": "sha256:a5a586ecde90a18da68ce5e48a9ac50fd4f1b24881909ec864723767e3a44158"
 },
 "nbformat": 3,
 "nbformat_minor": 0,
 "worksheets": [
  {
   "cells": [
    {
     "cell_type": "code",
     "collapsed": false,
     "input": [],
     "language": "python",
     "metadata": {},
     "outputs": [],
     "prompt_number": 6
    },
    {
     "cell_type": "code",
     "collapsed": false,
     "input": [],
     "language": "python",
     "metadata": {},
     "outputs": []
    }
   ],
   "metadata": {}
  }
 ]
}