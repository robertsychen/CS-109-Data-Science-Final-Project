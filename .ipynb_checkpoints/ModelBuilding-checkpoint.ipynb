{
 "metadata": {
  "name": "",
  "signature": "sha256:03aaf43d930cfebb5a198653548032d750ccd9299bca9fcd97fcebb44d703301"
 },
 "nbformat": 3,
 "nbformat_minor": 0,
 "worksheets": [
  {
   "cells": [
    {
     "cell_type": "heading",
     "level": 1,
     "metadata": {},
     "source": [
      "Importing Libraries"
     ]
    },
    {
     "cell_type": "code",
     "collapsed": false,
     "input": [
      "#This was originally copied and pasted from Evan's \"Predicting Flight Delays\". This notebook uses precipiation data also\n",
      "#and is run to optimize number of trees in random forest. Then, applies the model to test data at cutoffs 0, 15, 30, 45, 60\n",
      "#minutes.\n",
      "\n",
      "import numpy as np\n",
      "import scipy as sp\n",
      "import pandas as pd\n",
      "import sklearn\n",
      "import seaborn as sns\n",
      "from matplotlib import pyplot as plt\n",
      "\n",
      "%matplotlib inline\n",
      "\n",
      "from sklearn.ensemble import RandomForestClassifier\n",
      "from sklearn.cross_validation import cross_val_score\n",
      "from sklearn import preprocessing"
     ],
     "language": "python",
     "metadata": {},
     "outputs": [],
     "prompt_number": 1
    },
    {
     "cell_type": "heading",
     "level": 1,
     "metadata": {},
     "source": [
      "Formatting Data (TRAINING DATA)"
     ]
    },
    {
     "cell_type": "code",
     "collapsed": false,
     "input": [
      "file_location = '/Users/robertchen/Documents/CS109AnnieEvanRobert-/BOSTraining.csv'\n",
      "#everyone needs their own version of this\n",
      "\n",
      "#this data frame has precipitation data\n",
      "df = pd.read_csv(file_location)"
     ],
     "language": "python",
     "metadata": {},
     "outputs": [
      {
       "output_type": "stream",
       "stream": "stderr",
       "text": [
        "/Users/robertchen/anaconda/lib/python2.7/site-packages/pandas/io/parsers.py:1139: DtypeWarning: Columns (40) have mixed types. Specify dtype option on import or set low_memory=False.\n",
        "  data = self._reader.read(nrows)\n"
       ]
      }
     ],
     "prompt_number": 2
    },
    {
     "cell_type": "code",
     "collapsed": false,
     "input": [
      "df.info()"
     ],
     "language": "python",
     "metadata": {},
     "outputs": [
      {
       "output_type": "stream",
       "stream": "stdout",
       "text": [
        "<class 'pandas.core.frame.DataFrame'>\n",
        "Int64Index: 426112 entries, 0 to 426111\n",
        "Data columns (total 48 columns):\n",
        "Unnamed: 0               426112 non-null int64\n",
        "ACTUAL_ELAPSED_TIME      419035 non-null float64\n",
        "AIRLINE_ID               426112 non-null int64\n",
        "AIR_TIME                 419035 non-null float64\n",
        "ARR_DELAY                419035 non-null float64\n",
        "ARR_DELAY_NEW            204931 non-null float64\n",
        "ARR_TIME                 419667 non-null float64\n",
        "CANCELLATION_CODE        6384 non-null object\n",
        "CANCELLED                426112 non-null int64\n",
        "CARRIER_DELAY            79352 non-null float64\n",
        "CRS_ARR_TIME             426112 non-null int64\n",
        "CRS_DEP_TIME             426112 non-null int64\n",
        "DAY_OF_MONTH             426112 non-null int64\n",
        "DAY_OF_WEEK              426112 non-null int64\n",
        "DEP_DELAY                419991 non-null float64\n",
        "DEP_TIME                 419991 non-null float64\n",
        "DEST                     426112 non-null object\n",
        "DEST_AIRPORT_ID          426112 non-null int64\n",
        "DEST_AIRPORT_SEQ_ID      426112 non-null int64\n",
        "DEST_CITY_MARKET_ID      426112 non-null int64\n",
        "DEST_CITY_NAME           426112 non-null object\n",
        "DEST_STATE_ABR           426112 non-null object\n",
        "DISTANCE                 426112 non-null int64\n",
        "FIRST_DEP_TIME           1347 non-null float64\n",
        "FLIGHTS                  426112 non-null int64\n",
        "FL_DATE                  426112 non-null object\n",
        "FL_NUM                   426112 non-null int64\n",
        "LATE_AIRCRAFT_DELAY      79352 non-null float64\n",
        "MONTH                    426112 non-null int64\n",
        "NAS_DELAY                79352 non-null float64\n",
        "ORIGIN                   426112 non-null object\n",
        "ORIGIN_AIRPORT_ID        426112 non-null int64\n",
        "ORIGIN_AIRPORT_SEQ_ID    426112 non-null int64\n",
        "ORIGIN_CITY_MARKET_ID    426112 non-null int64\n",
        "ORIGIN_CITY_NAME         426112 non-null object\n",
        "ORIGIN_STATE_ABR         426112 non-null object\n",
        "SECURITY_DELAY           79352 non-null float64\n",
        "TAIL_NUM                 423269 non-null object\n",
        "TAXI_IN                  419667 non-null float64\n",
        "TAXI_OUT                 419760 non-null float64\n",
        "UNIQUE_CARRIER           207277 non-null object\n",
        "Unnamed: 41              0 non-null float64\n",
        "Unnamed: 44              0 non-null float64\n",
        "WEATHER_DELAY            79352 non-null float64\n",
        "WHEELS_OFF               419760 non-null float64\n",
        "WHEELS_ON                419667 non-null float64\n",
        "YEAR                     426112 non-null int64\n",
        "PRCP                     426112 non-null int64\n",
        "dtypes: float64(19), int64(19), object(10)"
       ]
      }
     ],
     "prompt_number": 3
    },
    {
     "cell_type": "code",
     "collapsed": false,
     "input": [
      "df.head()"
     ],
     "language": "python",
     "metadata": {},
     "outputs": [
      {
       "html": [
        "<div style=\"max-height:1000px;max-width:1500px;overflow:auto;\">\n",
        "<table border=\"1\" class=\"dataframe\">\n",
        "  <thead>\n",
        "    <tr style=\"text-align: right;\">\n",
        "      <th></th>\n",
        "      <th>Unnamed: 0</th>\n",
        "      <th>ACTUAL_ELAPSED_TIME</th>\n",
        "      <th>AIRLINE_ID</th>\n",
        "      <th>AIR_TIME</th>\n",
        "      <th>ARR_DELAY</th>\n",
        "      <th>ARR_DELAY_NEW</th>\n",
        "      <th>ARR_TIME</th>\n",
        "      <th>CANCELLATION_CODE</th>\n",
        "      <th>CANCELLED</th>\n",
        "      <th>CARRIER_DELAY</th>\n",
        "      <th>...</th>\n",
        "      <th>TAXI_IN</th>\n",
        "      <th>TAXI_OUT</th>\n",
        "      <th>UNIQUE_CARRIER</th>\n",
        "      <th>Unnamed: 41</th>\n",
        "      <th>Unnamed: 44</th>\n",
        "      <th>WEATHER_DELAY</th>\n",
        "      <th>WHEELS_OFF</th>\n",
        "      <th>WHEELS_ON</th>\n",
        "      <th>YEAR</th>\n",
        "      <th>PRCP</th>\n",
        "    </tr>\n",
        "  </thead>\n",
        "  <tbody>\n",
        "    <tr>\n",
        "      <th>0</th>\n",
        "      <td> 0</td>\n",
        "      <td> 192</td>\n",
        "      <td> 19790</td>\n",
        "      <td> 147</td>\n",
        "      <td> 17</td>\n",
        "      <td> 17</td>\n",
        "      <td> 1025</td>\n",
        "      <td> NaN</td>\n",
        "      <td> 0</td>\n",
        "      <td>  0</td>\n",
        "      <td>...</td>\n",
        "      <td> 19</td>\n",
        "      <td> 26</td>\n",
        "      <td> DL</td>\n",
        "      <td>NaN</td>\n",
        "      <td>NaN</td>\n",
        "      <td>  0</td>\n",
        "      <td>  739</td>\n",
        "      <td> 1006</td>\n",
        "      <td> 2011</td>\n",
        "      <td> 76</td>\n",
        "    </tr>\n",
        "    <tr>\n",
        "      <th>1</th>\n",
        "      <td> 1</td>\n",
        "      <td> 122</td>\n",
        "      <td> 19790</td>\n",
        "      <td> 105</td>\n",
        "      <td> -3</td>\n",
        "      <td>  0</td>\n",
        "      <td> 1624</td>\n",
        "      <td> NaN</td>\n",
        "      <td> 0</td>\n",
        "      <td>NaN</td>\n",
        "      <td>...</td>\n",
        "      <td>  6</td>\n",
        "      <td> 11</td>\n",
        "      <td> DL</td>\n",
        "      <td>NaN</td>\n",
        "      <td>NaN</td>\n",
        "      <td>NaN</td>\n",
        "      <td> 1433</td>\n",
        "      <td> 1618</td>\n",
        "      <td> 2011</td>\n",
        "      <td> 76</td>\n",
        "    </tr>\n",
        "    <tr>\n",
        "      <th>2</th>\n",
        "      <td> 2</td>\n",
        "      <td> 177</td>\n",
        "      <td> 19790</td>\n",
        "      <td> 143</td>\n",
        "      <td> 13</td>\n",
        "      <td> 13</td>\n",
        "      <td> 1745</td>\n",
        "      <td> NaN</td>\n",
        "      <td> 0</td>\n",
        "      <td>NaN</td>\n",
        "      <td>...</td>\n",
        "      <td> 10</td>\n",
        "      <td> 24</td>\n",
        "      <td> DL</td>\n",
        "      <td>NaN</td>\n",
        "      <td>NaN</td>\n",
        "      <td>NaN</td>\n",
        "      <td> 1512</td>\n",
        "      <td> 1735</td>\n",
        "      <td> 2011</td>\n",
        "      <td> 76</td>\n",
        "    </tr>\n",
        "    <tr>\n",
        "      <th>3</th>\n",
        "      <td> 3</td>\n",
        "      <td> 129</td>\n",
        "      <td> 19790</td>\n",
        "      <td> 103</td>\n",
        "      <td>-13</td>\n",
        "      <td>  0</td>\n",
        "      <td> 2029</td>\n",
        "      <td> NaN</td>\n",
        "      <td> 0</td>\n",
        "      <td>NaN</td>\n",
        "      <td>...</td>\n",
        "      <td> 11</td>\n",
        "      <td> 15</td>\n",
        "      <td> DL</td>\n",
        "      <td>NaN</td>\n",
        "      <td>NaN</td>\n",
        "      <td>NaN</td>\n",
        "      <td> 1835</td>\n",
        "      <td> 2018</td>\n",
        "      <td> 2011</td>\n",
        "      <td> 76</td>\n",
        "    </tr>\n",
        "    <tr>\n",
        "      <th>4</th>\n",
        "      <td> 4</td>\n",
        "      <td> 125</td>\n",
        "      <td> 19790</td>\n",
        "      <td>  98</td>\n",
        "      <td>-13</td>\n",
        "      <td>  0</td>\n",
        "      <td>  845</td>\n",
        "      <td> NaN</td>\n",
        "      <td> 0</td>\n",
        "      <td>NaN</td>\n",
        "      <td>...</td>\n",
        "      <td> 12</td>\n",
        "      <td> 15</td>\n",
        "      <td> DL</td>\n",
        "      <td>NaN</td>\n",
        "      <td>NaN</td>\n",
        "      <td>NaN</td>\n",
        "      <td>  655</td>\n",
        "      <td>  833</td>\n",
        "      <td> 2011</td>\n",
        "      <td> 76</td>\n",
        "    </tr>\n",
        "  </tbody>\n",
        "</table>\n",
        "<p>5 rows \u00d7 48 columns</p>\n",
        "</div>"
       ],
       "metadata": {},
       "output_type": "pyout",
       "prompt_number": 4,
       "text": [
        "   Unnamed: 0  ACTUAL_ELAPSED_TIME  AIRLINE_ID  AIR_TIME  ARR_DELAY  \\\n",
        "0           0                  192       19790       147         17   \n",
        "1           1                  122       19790       105         -3   \n",
        "2           2                  177       19790       143         13   \n",
        "3           3                  129       19790       103        -13   \n",
        "4           4                  125       19790        98        -13   \n",
        "\n",
        "   ARR_DELAY_NEW  ARR_TIME CANCELLATION_CODE  CANCELLED  CARRIER_DELAY  \\\n",
        "0             17      1025               NaN          0              0   \n",
        "1              0      1624               NaN          0            NaN   \n",
        "2             13      1745               NaN          0            NaN   \n",
        "3              0      2029               NaN          0            NaN   \n",
        "4              0       845               NaN          0            NaN   \n",
        "\n",
        "       ...        TAXI_IN  TAXI_OUT  UNIQUE_CARRIER  Unnamed: 41  Unnamed: 44  \\\n",
        "0      ...             19        26              DL          NaN          NaN   \n",
        "1      ...              6        11              DL          NaN          NaN   \n",
        "2      ...             10        24              DL          NaN          NaN   \n",
        "3      ...             11        15              DL          NaN          NaN   \n",
        "4      ...             12        15              DL          NaN          NaN   \n",
        "\n",
        "   WEATHER_DELAY WHEELS_OFF  WHEELS_ON  YEAR  PRCP  \n",
        "0              0        739       1006  2011    76  \n",
        "1            NaN       1433       1618  2011    76  \n",
        "2            NaN       1512       1735  2011    76  \n",
        "3            NaN       1835       2018  2011    76  \n",
        "4            NaN        655        833  2011    76  \n",
        "\n",
        "[5 rows x 48 columns]"
       ]
      }
     ],
     "prompt_number": 4
    },
    {
     "cell_type": "code",
     "collapsed": false,
     "input": [
      "# Dropping all rows with NaN in the DEP_TIME or ARR_DELAY columns. \n",
      "df = df.dropna(subset=['DEP_TIME', 'ARR_DELAY'], how='all')\n",
      "\n",
      "# Resetting index \n",
      "df['Index'] = range(len(df))\n",
      "df = df.set_index('Index')\n",
      "\n",
      "df.head()"
     ],
     "language": "python",
     "metadata": {},
     "outputs": [
      {
       "html": [
        "<div style=\"max-height:1000px;max-width:1500px;overflow:auto;\">\n",
        "<table border=\"1\" class=\"dataframe\">\n",
        "  <thead>\n",
        "    <tr style=\"text-align: right;\">\n",
        "      <th></th>\n",
        "      <th>Unnamed: 0</th>\n",
        "      <th>ACTUAL_ELAPSED_TIME</th>\n",
        "      <th>AIRLINE_ID</th>\n",
        "      <th>AIR_TIME</th>\n",
        "      <th>ARR_DELAY</th>\n",
        "      <th>ARR_DELAY_NEW</th>\n",
        "      <th>ARR_TIME</th>\n",
        "      <th>CANCELLATION_CODE</th>\n",
        "      <th>CANCELLED</th>\n",
        "      <th>CARRIER_DELAY</th>\n",
        "      <th>...</th>\n",
        "      <th>TAXI_IN</th>\n",
        "      <th>TAXI_OUT</th>\n",
        "      <th>UNIQUE_CARRIER</th>\n",
        "      <th>Unnamed: 41</th>\n",
        "      <th>Unnamed: 44</th>\n",
        "      <th>WEATHER_DELAY</th>\n",
        "      <th>WHEELS_OFF</th>\n",
        "      <th>WHEELS_ON</th>\n",
        "      <th>YEAR</th>\n",
        "      <th>PRCP</th>\n",
        "    </tr>\n",
        "    <tr>\n",
        "      <th>Index</th>\n",
        "      <th></th>\n",
        "      <th></th>\n",
        "      <th></th>\n",
        "      <th></th>\n",
        "      <th></th>\n",
        "      <th></th>\n",
        "      <th></th>\n",
        "      <th></th>\n",
        "      <th></th>\n",
        "      <th></th>\n",
        "      <th></th>\n",
        "      <th></th>\n",
        "      <th></th>\n",
        "      <th></th>\n",
        "      <th></th>\n",
        "      <th></th>\n",
        "      <th></th>\n",
        "      <th></th>\n",
        "      <th></th>\n",
        "      <th></th>\n",
        "      <th></th>\n",
        "    </tr>\n",
        "  </thead>\n",
        "  <tbody>\n",
        "    <tr>\n",
        "      <th>0</th>\n",
        "      <td> 0</td>\n",
        "      <td> 192</td>\n",
        "      <td> 19790</td>\n",
        "      <td> 147</td>\n",
        "      <td> 17</td>\n",
        "      <td> 17</td>\n",
        "      <td> 1025</td>\n",
        "      <td> NaN</td>\n",
        "      <td> 0</td>\n",
        "      <td>  0</td>\n",
        "      <td>...</td>\n",
        "      <td> 19</td>\n",
        "      <td> 26</td>\n",
        "      <td> DL</td>\n",
        "      <td>NaN</td>\n",
        "      <td>NaN</td>\n",
        "      <td>  0</td>\n",
        "      <td>  739</td>\n",
        "      <td> 1006</td>\n",
        "      <td> 2011</td>\n",
        "      <td> 76</td>\n",
        "    </tr>\n",
        "    <tr>\n",
        "      <th>1</th>\n",
        "      <td> 1</td>\n",
        "      <td> 122</td>\n",
        "      <td> 19790</td>\n",
        "      <td> 105</td>\n",
        "      <td> -3</td>\n",
        "      <td>  0</td>\n",
        "      <td> 1624</td>\n",
        "      <td> NaN</td>\n",
        "      <td> 0</td>\n",
        "      <td>NaN</td>\n",
        "      <td>...</td>\n",
        "      <td>  6</td>\n",
        "      <td> 11</td>\n",
        "      <td> DL</td>\n",
        "      <td>NaN</td>\n",
        "      <td>NaN</td>\n",
        "      <td>NaN</td>\n",
        "      <td> 1433</td>\n",
        "      <td> 1618</td>\n",
        "      <td> 2011</td>\n",
        "      <td> 76</td>\n",
        "    </tr>\n",
        "    <tr>\n",
        "      <th>2</th>\n",
        "      <td> 2</td>\n",
        "      <td> 177</td>\n",
        "      <td> 19790</td>\n",
        "      <td> 143</td>\n",
        "      <td> 13</td>\n",
        "      <td> 13</td>\n",
        "      <td> 1745</td>\n",
        "      <td> NaN</td>\n",
        "      <td> 0</td>\n",
        "      <td>NaN</td>\n",
        "      <td>...</td>\n",
        "      <td> 10</td>\n",
        "      <td> 24</td>\n",
        "      <td> DL</td>\n",
        "      <td>NaN</td>\n",
        "      <td>NaN</td>\n",
        "      <td>NaN</td>\n",
        "      <td> 1512</td>\n",
        "      <td> 1735</td>\n",
        "      <td> 2011</td>\n",
        "      <td> 76</td>\n",
        "    </tr>\n",
        "    <tr>\n",
        "      <th>3</th>\n",
        "      <td> 3</td>\n",
        "      <td> 129</td>\n",
        "      <td> 19790</td>\n",
        "      <td> 103</td>\n",
        "      <td>-13</td>\n",
        "      <td>  0</td>\n",
        "      <td> 2029</td>\n",
        "      <td> NaN</td>\n",
        "      <td> 0</td>\n",
        "      <td>NaN</td>\n",
        "      <td>...</td>\n",
        "      <td> 11</td>\n",
        "      <td> 15</td>\n",
        "      <td> DL</td>\n",
        "      <td>NaN</td>\n",
        "      <td>NaN</td>\n",
        "      <td>NaN</td>\n",
        "      <td> 1835</td>\n",
        "      <td> 2018</td>\n",
        "      <td> 2011</td>\n",
        "      <td> 76</td>\n",
        "    </tr>\n",
        "    <tr>\n",
        "      <th>4</th>\n",
        "      <td> 4</td>\n",
        "      <td> 125</td>\n",
        "      <td> 19790</td>\n",
        "      <td>  98</td>\n",
        "      <td>-13</td>\n",
        "      <td>  0</td>\n",
        "      <td>  845</td>\n",
        "      <td> NaN</td>\n",
        "      <td> 0</td>\n",
        "      <td>NaN</td>\n",
        "      <td>...</td>\n",
        "      <td> 12</td>\n",
        "      <td> 15</td>\n",
        "      <td> DL</td>\n",
        "      <td>NaN</td>\n",
        "      <td>NaN</td>\n",
        "      <td>NaN</td>\n",
        "      <td>  655</td>\n",
        "      <td>  833</td>\n",
        "      <td> 2011</td>\n",
        "      <td> 76</td>\n",
        "    </tr>\n",
        "  </tbody>\n",
        "</table>\n",
        "<p>5 rows \u00d7 48 columns</p>\n",
        "</div>"
       ],
       "metadata": {},
       "output_type": "pyout",
       "prompt_number": 5,
       "text": [
        "       Unnamed: 0  ACTUAL_ELAPSED_TIME  AIRLINE_ID  AIR_TIME  ARR_DELAY  \\\n",
        "Index                                                                     \n",
        "0               0                  192       19790       147         17   \n",
        "1               1                  122       19790       105         -3   \n",
        "2               2                  177       19790       143         13   \n",
        "3               3                  129       19790       103        -13   \n",
        "4               4                  125       19790        98        -13   \n",
        "\n",
        "       ARR_DELAY_NEW  ARR_TIME CANCELLATION_CODE  CANCELLED  CARRIER_DELAY  \\\n",
        "Index                                                                        \n",
        "0                 17      1025               NaN          0              0   \n",
        "1                  0      1624               NaN          0            NaN   \n",
        "2                 13      1745               NaN          0            NaN   \n",
        "3                  0      2029               NaN          0            NaN   \n",
        "4                  0       845               NaN          0            NaN   \n",
        "\n",
        "           ...        TAXI_IN  TAXI_OUT  UNIQUE_CARRIER  Unnamed: 41  \\\n",
        "Index      ...                                                         \n",
        "0          ...             19        26              DL          NaN   \n",
        "1          ...              6        11              DL          NaN   \n",
        "2          ...             10        24              DL          NaN   \n",
        "3          ...             11        15              DL          NaN   \n",
        "4          ...             12        15              DL          NaN   \n",
        "\n",
        "       Unnamed: 44  WEATHER_DELAY WHEELS_OFF  WHEELS_ON  YEAR  PRCP  \n",
        "Index                                                                \n",
        "0              NaN              0        739       1006  2011    76  \n",
        "1              NaN            NaN       1433       1618  2011    76  \n",
        "2              NaN            NaN       1512       1735  2011    76  \n",
        "3              NaN            NaN       1835       2018  2011    76  \n",
        "4              NaN            NaN        655        833  2011    76  \n",
        "\n",
        "[5 rows x 48 columns]"
       ]
      }
     ],
     "prompt_number": 5
    },
    {
     "cell_type": "heading",
     "level": 1,
     "metadata": {},
     "source": [
      "Encoding Variables "
     ]
    },
    {
     "cell_type": "markdown",
     "metadata": {},
     "source": [
      "Scikit's Random Forests only works on numerical values. Therefore, we will be converting categorical variables to binary dummy variables. For example, one column of our data might say \"Is on Monday\" and a 1 would be yes, while a 0 would be no. "
     ]
    },
    {
     "cell_type": "heading",
     "level": 2,
     "metadata": {},
     "source": [
      "Day of the Week"
     ]
    },
    {
     "cell_type": "code",
     "collapsed": false,
     "input": [
      "from sklearn import preprocessing\n",
      "\n",
      "days = df['DAY_OF_WEEK']\n",
      "\n",
      "# it is necessary to change the format of the days to [[1], [3], [7]...] rather than [1,3,7...] \n",
      "days = [[days[i]] for i in range(len(days))]\n",
      "ohe = preprocessing.OneHotEncoder()\n",
      "\n",
      "# Both the fitting and transform data must be in the form [[1], [3], [7]...]\n",
      "ohe.fit([[i] for i in range(1,8)])\n",
      "\n",
      "day_encoding = ohe.transform(days).toarray()\n",
      "print day_encoding"
     ],
     "language": "python",
     "metadata": {},
     "outputs": [
      {
       "output_type": "stream",
       "stream": "stdout",
       "text": [
        "[[ 0.  0.  0. ...,  1.  0.  0.]\n",
        " [ 0.  0.  0. ...,  1.  0.  0.]\n",
        " [ 0.  0.  0. ...,  1.  0.  0.]\n",
        " ..., \n",
        " [ 0.  0.  0. ...,  0.  0.  1.]\n",
        " [ 0.  0.  0. ...,  0.  0.  1.]\n",
        " [ 0.  0.  1. ...,  0.  0.  0.]]\n"
       ]
      },
      {
       "output_type": "stream",
       "stream": "stderr",
       "text": [
        "/Users/robertchen/anaconda/lib/python2.7/site-packages/numpy/core/fromnumeric.py:2499: VisibleDeprecationWarning: `rank` is deprecated; use the `ndim` attribute or function instead. To find the rank of a matrix see `numpy.linalg.matrix_rank`.\n",
        "  VisibleDeprecationWarning)\n"
       ]
      }
     ],
     "prompt_number": 6
    },
    {
     "cell_type": "heading",
     "level": 2,
     "metadata": {},
     "source": [
      "Airline Carrier"
     ]
    },
    {
     "cell_type": "code",
     "collapsed": false,
     "input": [
      "airline_id = df['AIRLINE_ID']\n",
      "\n",
      "# LabelEncoder allows us to more easily turn categorical data into [1,2,3,4...] to then be used for OneHotEncoder\n",
      "le = preprocessing.LabelEncoder()\n",
      "\n",
      "# Extract all the unique items and fit to LabelEncoder \n",
      "airline_ids = list(set(airline_id))\n",
      "le.fit(airline_ids)\n",
      "\n",
      "# Converts airline id's : [13842, 34984, ...] to labels : [3, 5, 1 ...]\n",
      "carrier_labels = le.transform(airline_id)\n",
      "\n",
      "# Extract all the unique labels and change to the [[1], [2], [3]...] format for feeding into OneHotEncoder\n",
      "carrier_list = list(set(carrier_labels))\n",
      "carrier_list = [[carrier_labels[i]] for i in range(len(carrier_labels))]\n",
      "\n",
      "# Using OneHotEncoder to fit the modified unique carrier_list\n",
      "ohe2 = preprocessing.OneHotEncoder()\n",
      "ohe2.fit(carrier_list)\n",
      "\n",
      "# Convert format \n",
      "carrier_labels = [[carrier_labels[i]] for i in range(len(carrier_labels))]\n",
      "\n",
      "airline_encoding = ohe2.transform(carrier_labels).toarray()\n",
      "print airline_encoding"
     ],
     "language": "python",
     "metadata": {},
     "outputs": [
      {
       "output_type": "stream",
       "stream": "stdout",
       "text": [
        "[[ 0.  0.  1. ...,  0.  0.  0.]\n",
        " [ 0.  0.  1. ...,  0.  0.  0.]\n",
        " [ 0.  0.  1. ...,  0.  0.  0.]\n",
        " ..., \n",
        " [ 0.  0.  0. ...,  0.  0.  0.]\n",
        " [ 0.  0.  0. ...,  0.  0.  0.]\n",
        " [ 0.  0.  0. ...,  0.  0.  0.]]\n"
       ]
      }
     ],
     "prompt_number": 7
    },
    {
     "cell_type": "heading",
     "level": 2,
     "metadata": {},
     "source": [
      "Time of Day"
     ]
    },
    {
     "cell_type": "markdown",
     "metadata": {},
     "source": [
      "Note: Random Forests can only be performed on at most 32 columns at once. We have 7 from the days of the week, and 17 from the carrier. Therefore, for now, we will treat time of day as a continuous variable. This okay because there are very few flights to/from BOS between 2 and 5 am. Therefore, I will translate the times to number of hours after 5 am. "
     ]
    },
    {
     "cell_type": "code",
     "collapsed": false,
     "input": [
      "time = df['DEP_TIME']\n",
      "\n",
      "for i in range(len(time)):\n",
      "    old_time = time[i] \n",
      "    \n",
      "    # If the time is before midnight, then simply subtract 500 from it \n",
      "    if old_time <= 2359 and old_time >= 500:\n",
      "        new_time = old_time - 500\n",
      "    # Otherwise, the time must be between 000 and 500, so simply add 2400 - 500 = 1900\n",
      "    else: \n",
      "        new_time = old_time + 2400 - 500\n",
      "        \n",
      "    # Conversion from MMHH to \"Number of Hours since 5 AM\"\n",
      "    time[i] = (new_time % 100)/ 60.0 + new_time / 100"
     ],
     "language": "python",
     "metadata": {},
     "outputs": [],
     "prompt_number": 8
    },
    {
     "cell_type": "heading",
     "level": 2,
     "metadata": {},
     "source": [
      "Distance and Precipitation"
     ]
    },
    {
     "cell_type": "code",
     "collapsed": false,
     "input": [
      "distance = df['DISTANCE']\n",
      "precipitation = df['PRCP']"
     ],
     "language": "python",
     "metadata": {},
     "outputs": [],
     "prompt_number": 9
    },
    {
     "cell_type": "heading",
     "level": 2,
     "metadata": {},
     "source": [
      "Merging DataFrames"
     ]
    },
    {
     "cell_type": "code",
     "collapsed": false,
     "input": [
      "result = pd.DataFrame(time)\n",
      "\n",
      "result = result.join(distance)\n",
      "result = result.join(precipitation)\n",
      "result = result.join(pd.DataFrame(day_encoding))\n",
      "\n",
      "# Purpose: problems occur if you join data frames with the same column names (0,1,2,3...)\n",
      "result.columns = ['DEP_TIME since 5am', 'DISTANCE', 'PRCP', 'MON', 'TUE', 'WED', 'THU', 'FRI', 'SAT', 'SUN']\n",
      "result = result.join(pd.DataFrame(airline_encoding))\n",
      "\n",
      "result.head()"
     ],
     "language": "python",
     "metadata": {},
     "outputs": [
      {
       "html": [
        "<div style=\"max-height:1000px;max-width:1500px;overflow:auto;\">\n",
        "<table border=\"1\" class=\"dataframe\">\n",
        "  <thead>\n",
        "    <tr style=\"text-align: right;\">\n",
        "      <th></th>\n",
        "      <th>DEP_TIME since 5am</th>\n",
        "      <th>DISTANCE</th>\n",
        "      <th>PRCP</th>\n",
        "      <th>MON</th>\n",
        "      <th>TUE</th>\n",
        "      <th>WED</th>\n",
        "      <th>THU</th>\n",
        "      <th>FRI</th>\n",
        "      <th>SAT</th>\n",
        "      <th>SUN</th>\n",
        "      <th>...</th>\n",
        "      <th>7</th>\n",
        "      <th>8</th>\n",
        "      <th>9</th>\n",
        "      <th>10</th>\n",
        "      <th>11</th>\n",
        "      <th>12</th>\n",
        "      <th>13</th>\n",
        "      <th>14</th>\n",
        "      <th>15</th>\n",
        "      <th>16</th>\n",
        "    </tr>\n",
        "    <tr>\n",
        "      <th>Index</th>\n",
        "      <th></th>\n",
        "      <th></th>\n",
        "      <th></th>\n",
        "      <th></th>\n",
        "      <th></th>\n",
        "      <th></th>\n",
        "      <th></th>\n",
        "      <th></th>\n",
        "      <th></th>\n",
        "      <th></th>\n",
        "      <th></th>\n",
        "      <th></th>\n",
        "      <th></th>\n",
        "      <th></th>\n",
        "      <th></th>\n",
        "      <th></th>\n",
        "      <th></th>\n",
        "      <th></th>\n",
        "      <th></th>\n",
        "      <th></th>\n",
        "      <th></th>\n",
        "    </tr>\n",
        "  </thead>\n",
        "  <tbody>\n",
        "    <tr>\n",
        "      <th>0</th>\n",
        "      <td>  2.346667</td>\n",
        "      <td> 946</td>\n",
        "      <td> 76</td>\n",
        "      <td> 0</td>\n",
        "      <td> 0</td>\n",
        "      <td> 0</td>\n",
        "      <td> 0</td>\n",
        "      <td> 1</td>\n",
        "      <td> 0</td>\n",
        "      <td> 0</td>\n",
        "      <td>...</td>\n",
        "      <td> 0</td>\n",
        "      <td> 0</td>\n",
        "      <td> 0</td>\n",
        "      <td> 0</td>\n",
        "      <td> 0</td>\n",
        "      <td> 0</td>\n",
        "      <td> 0</td>\n",
        "      <td> 0</td>\n",
        "      <td> 0</td>\n",
        "      <td> 0</td>\n",
        "    </tr>\n",
        "    <tr>\n",
        "      <th>1</th>\n",
        "      <td>  9.586667</td>\n",
        "      <td> 632</td>\n",
        "      <td> 76</td>\n",
        "      <td> 0</td>\n",
        "      <td> 0</td>\n",
        "      <td> 0</td>\n",
        "      <td> 0</td>\n",
        "      <td> 1</td>\n",
        "      <td> 0</td>\n",
        "      <td> 0</td>\n",
        "      <td>...</td>\n",
        "      <td> 0</td>\n",
        "      <td> 0</td>\n",
        "      <td> 0</td>\n",
        "      <td> 0</td>\n",
        "      <td> 0</td>\n",
        "      <td> 0</td>\n",
        "      <td> 0</td>\n",
        "      <td> 0</td>\n",
        "      <td> 0</td>\n",
        "      <td> 0</td>\n",
        "    </tr>\n",
        "    <tr>\n",
        "      <th>2</th>\n",
        "      <td> 10.280000</td>\n",
        "      <td> 946</td>\n",
        "      <td> 76</td>\n",
        "      <td> 0</td>\n",
        "      <td> 0</td>\n",
        "      <td> 0</td>\n",
        "      <td> 0</td>\n",
        "      <td> 1</td>\n",
        "      <td> 0</td>\n",
        "      <td> 0</td>\n",
        "      <td>...</td>\n",
        "      <td> 0</td>\n",
        "      <td> 0</td>\n",
        "      <td> 0</td>\n",
        "      <td> 0</td>\n",
        "      <td> 0</td>\n",
        "      <td> 0</td>\n",
        "      <td> 0</td>\n",
        "      <td> 0</td>\n",
        "      <td> 0</td>\n",
        "      <td> 0</td>\n",
        "    </tr>\n",
        "    <tr>\n",
        "      <th>3</th>\n",
        "      <td> 13.533333</td>\n",
        "      <td> 632</td>\n",
        "      <td> 76</td>\n",
        "      <td> 0</td>\n",
        "      <td> 0</td>\n",
        "      <td> 0</td>\n",
        "      <td> 0</td>\n",
        "      <td> 1</td>\n",
        "      <td> 0</td>\n",
        "      <td> 0</td>\n",
        "      <td>...</td>\n",
        "      <td> 0</td>\n",
        "      <td> 0</td>\n",
        "      <td> 0</td>\n",
        "      <td> 0</td>\n",
        "      <td> 0</td>\n",
        "      <td> 0</td>\n",
        "      <td> 0</td>\n",
        "      <td> 0</td>\n",
        "      <td> 0</td>\n",
        "      <td> 0</td>\n",
        "    </tr>\n",
        "    <tr>\n",
        "      <th>4</th>\n",
        "      <td>  2.066667</td>\n",
        "      <td> 632</td>\n",
        "      <td> 76</td>\n",
        "      <td> 0</td>\n",
        "      <td> 0</td>\n",
        "      <td> 0</td>\n",
        "      <td> 0</td>\n",
        "      <td> 1</td>\n",
        "      <td> 0</td>\n",
        "      <td> 0</td>\n",
        "      <td>...</td>\n",
        "      <td> 0</td>\n",
        "      <td> 0</td>\n",
        "      <td> 0</td>\n",
        "      <td> 0</td>\n",
        "      <td> 0</td>\n",
        "      <td> 0</td>\n",
        "      <td> 0</td>\n",
        "      <td> 0</td>\n",
        "      <td> 0</td>\n",
        "      <td> 0</td>\n",
        "    </tr>\n",
        "  </tbody>\n",
        "</table>\n",
        "<p>5 rows \u00d7 27 columns</p>\n",
        "</div>"
       ],
       "metadata": {},
       "output_type": "pyout",
       "prompt_number": 10,
       "text": [
        "       DEP_TIME since 5am  DISTANCE  PRCP  MON  TUE  WED  THU  FRI  SAT  SUN  \\\n",
        "Index                                                                          \n",
        "0                2.346667       946    76    0    0    0    0    1    0    0   \n",
        "1                9.586667       632    76    0    0    0    0    1    0    0   \n",
        "2               10.280000       946    76    0    0    0    0    1    0    0   \n",
        "3               13.533333       632    76    0    0    0    0    1    0    0   \n",
        "4                2.066667       632    76    0    0    0    0    1    0    0   \n",
        "\n",
        "      ...   7  8  9  10  11  12  13  14  15  16  \n",
        "Index ...                                        \n",
        "0     ...   0  0  0   0   0   0   0   0   0   0  \n",
        "1     ...   0  0  0   0   0   0   0   0   0   0  \n",
        "2     ...   0  0  0   0   0   0   0   0   0   0  \n",
        "3     ...   0  0  0   0   0   0   0   0   0   0  \n",
        "4     ...   0  0  0   0   0   0   0   0   0   0  \n",
        "\n",
        "[5 rows x 27 columns]"
       ]
      }
     ],
     "prompt_number": 10
    },
    {
     "cell_type": "heading",
     "level": 2,
     "metadata": {},
     "source": [
      "Formatting Data (TEST DATA)"
     ]
    },
    {
     "cell_type": "code",
     "collapsed": false,
     "input": [
      "#file_location2 = 'C:\\Users\\Annie\\Documents\\GitHub\\CS109AnnieEvanRobert-/BOSTest.csv'\n",
      "file_location2 = '/Users/robertchen/Documents/CS109AnnieEvanRobert-/BOSTest.csv'\n",
      "#everyone needs their own version of this\n",
      "\n",
      "#this data frame has precipitation data\n",
      "df2 = pd.read_csv(file_location2)"
     ],
     "language": "python",
     "metadata": {},
     "outputs": [],
     "prompt_number": 11
    },
    {
     "cell_type": "code",
     "collapsed": false,
     "input": [
      "df2.head()"
     ],
     "language": "python",
     "metadata": {},
     "outputs": [
      {
       "html": [
        "<div style=\"max-height:1000px;max-width:1500px;overflow:auto;\">\n",
        "<table border=\"1\" class=\"dataframe\">\n",
        "  <thead>\n",
        "    <tr style=\"text-align: right;\">\n",
        "      <th></th>\n",
        "      <th>Unnamed: 0</th>\n",
        "      <th>ACTUAL_ELAPSED_TIME</th>\n",
        "      <th>AIRLINE_ID</th>\n",
        "      <th>AIR_TIME</th>\n",
        "      <th>ARR_DELAY</th>\n",
        "      <th>ARR_DELAY_NEW</th>\n",
        "      <th>ARR_TIME</th>\n",
        "      <th>CANCELLATION_CODE</th>\n",
        "      <th>CANCELLED</th>\n",
        "      <th>CARRIER_DELAY</th>\n",
        "      <th>...</th>\n",
        "      <th>TAXI_IN</th>\n",
        "      <th>TAXI_OUT</th>\n",
        "      <th>UNIQUE_CARRIER</th>\n",
        "      <th>Unnamed: 41</th>\n",
        "      <th>Unnamed: 44</th>\n",
        "      <th>WEATHER_DELAY</th>\n",
        "      <th>WHEELS_OFF</th>\n",
        "      <th>WHEELS_ON</th>\n",
        "      <th>YEAR</th>\n",
        "      <th>PRCP</th>\n",
        "    </tr>\n",
        "  </thead>\n",
        "  <tbody>\n",
        "    <tr>\n",
        "      <th>0</th>\n",
        "      <td> 0</td>\n",
        "      <td> 116</td>\n",
        "      <td> 20363</td>\n",
        "      <td> 91</td>\n",
        "      <td>-20</td>\n",
        "      <td>NaN</td>\n",
        "      <td> 1404</td>\n",
        "      <td> NaN</td>\n",
        "      <td> 0</td>\n",
        "      <td>NaN</td>\n",
        "      <td>...</td>\n",
        "      <td>  8</td>\n",
        "      <td> 17</td>\n",
        "      <td> NaN</td>\n",
        "      <td>NaN</td>\n",
        "      <td>NaN</td>\n",
        "      <td>NaN</td>\n",
        "      <td> 1225</td>\n",
        "      <td> 1356</td>\n",
        "      <td> 2013</td>\n",
        "      <td>  0</td>\n",
        "    </tr>\n",
        "    <tr>\n",
        "      <th>1</th>\n",
        "      <td> 1</td>\n",
        "      <td> 115</td>\n",
        "      <td> 20363</td>\n",
        "      <td> 98</td>\n",
        "      <td>-21</td>\n",
        "      <td>NaN</td>\n",
        "      <td> 1403</td>\n",
        "      <td> NaN</td>\n",
        "      <td> 0</td>\n",
        "      <td>NaN</td>\n",
        "      <td>...</td>\n",
        "      <td>  3</td>\n",
        "      <td> 14</td>\n",
        "      <td> NaN</td>\n",
        "      <td>NaN</td>\n",
        "      <td>NaN</td>\n",
        "      <td>NaN</td>\n",
        "      <td> 1222</td>\n",
        "      <td> 1400</td>\n",
        "      <td> 2013</td>\n",
        "      <td>  0</td>\n",
        "    </tr>\n",
        "    <tr>\n",
        "      <th>2</th>\n",
        "      <td> 2</td>\n",
        "      <td> 112</td>\n",
        "      <td> 20363</td>\n",
        "      <td> 82</td>\n",
        "      <td>-20</td>\n",
        "      <td>NaN</td>\n",
        "      <td> 1404</td>\n",
        "      <td> NaN</td>\n",
        "      <td> 0</td>\n",
        "      <td>NaN</td>\n",
        "      <td>...</td>\n",
        "      <td> 16</td>\n",
        "      <td> 14</td>\n",
        "      <td> NaN</td>\n",
        "      <td>NaN</td>\n",
        "      <td>NaN</td>\n",
        "      <td>NaN</td>\n",
        "      <td> 1226</td>\n",
        "      <td> 1348</td>\n",
        "      <td> 2013</td>\n",
        "      <td>  0</td>\n",
        "    </tr>\n",
        "    <tr>\n",
        "      <th>3</th>\n",
        "      <td> 3</td>\n",
        "      <td> 111</td>\n",
        "      <td> 20363</td>\n",
        "      <td> 96</td>\n",
        "      <td>-20</td>\n",
        "      <td>NaN</td>\n",
        "      <td> 1404</td>\n",
        "      <td> NaN</td>\n",
        "      <td> 0</td>\n",
        "      <td>NaN</td>\n",
        "      <td>...</td>\n",
        "      <td>  3</td>\n",
        "      <td> 12</td>\n",
        "      <td> NaN</td>\n",
        "      <td>NaN</td>\n",
        "      <td>NaN</td>\n",
        "      <td>NaN</td>\n",
        "      <td> 1225</td>\n",
        "      <td> 1401</td>\n",
        "      <td> 2013</td>\n",
        "      <td> 28</td>\n",
        "    </tr>\n",
        "    <tr>\n",
        "      <th>4</th>\n",
        "      <td> 4</td>\n",
        "      <td> 126</td>\n",
        "      <td> 20363</td>\n",
        "      <td> 95</td>\n",
        "      <td>-10</td>\n",
        "      <td>NaN</td>\n",
        "      <td> 1414</td>\n",
        "      <td> NaN</td>\n",
        "      <td> 0</td>\n",
        "      <td>NaN</td>\n",
        "      <td>...</td>\n",
        "      <td>  3</td>\n",
        "      <td> 28</td>\n",
        "      <td> NaN</td>\n",
        "      <td>NaN</td>\n",
        "      <td>NaN</td>\n",
        "      <td>NaN</td>\n",
        "      <td> 1236</td>\n",
        "      <td> 1411</td>\n",
        "      <td> 2013</td>\n",
        "      <td> 79</td>\n",
        "    </tr>\n",
        "  </tbody>\n",
        "</table>\n",
        "<p>5 rows \u00d7 48 columns</p>\n",
        "</div>"
       ],
       "metadata": {},
       "output_type": "pyout",
       "prompt_number": 12,
       "text": [
        "   Unnamed: 0  ACTUAL_ELAPSED_TIME  AIRLINE_ID  AIR_TIME  ARR_DELAY  \\\n",
        "0           0                  116       20363        91        -20   \n",
        "1           1                  115       20363        98        -21   \n",
        "2           2                  112       20363        82        -20   \n",
        "3           3                  111       20363        96        -20   \n",
        "4           4                  126       20363        95        -10   \n",
        "\n",
        "   ARR_DELAY_NEW  ARR_TIME CANCELLATION_CODE  CANCELLED  CARRIER_DELAY  \\\n",
        "0            NaN      1404               NaN          0            NaN   \n",
        "1            NaN      1403               NaN          0            NaN   \n",
        "2            NaN      1404               NaN          0            NaN   \n",
        "3            NaN      1404               NaN          0            NaN   \n",
        "4            NaN      1414               NaN          0            NaN   \n",
        "\n",
        "       ...        TAXI_IN  TAXI_OUT  UNIQUE_CARRIER  Unnamed: 41  Unnamed: 44  \\\n",
        "0      ...              8        17             NaN          NaN          NaN   \n",
        "1      ...              3        14             NaN          NaN          NaN   \n",
        "2      ...             16        14             NaN          NaN          NaN   \n",
        "3      ...              3        12             NaN          NaN          NaN   \n",
        "4      ...              3        28             NaN          NaN          NaN   \n",
        "\n",
        "   WEATHER_DELAY WHEELS_OFF  WHEELS_ON  YEAR  PRCP  \n",
        "0            NaN       1225       1356  2013     0  \n",
        "1            NaN       1222       1400  2013     0  \n",
        "2            NaN       1226       1348  2013     0  \n",
        "3            NaN       1225       1401  2013    28  \n",
        "4            NaN       1236       1411  2013    79  \n",
        "\n",
        "[5 rows x 48 columns]"
       ]
      }
     ],
     "prompt_number": 12
    },
    {
     "cell_type": "code",
     "collapsed": false,
     "input": [
      "# Dropping all rows with NaN in the DEP_TIME or ARR_DELAY columns. \n",
      "df2 = df2.dropna(subset=['DEP_TIME', 'ARR_DELAY'], how='all')\n",
      "\n",
      "# Resetting index \n",
      "df2['Index'] = range(len(df2))\n",
      "df2 = df2.set_index('Index')\n",
      "\n",
      "df2.head()"
     ],
     "language": "python",
     "metadata": {},
     "outputs": [
      {
       "html": [
        "<div style=\"max-height:1000px;max-width:1500px;overflow:auto;\">\n",
        "<table border=\"1\" class=\"dataframe\">\n",
        "  <thead>\n",
        "    <tr style=\"text-align: right;\">\n",
        "      <th></th>\n",
        "      <th>Unnamed: 0</th>\n",
        "      <th>ACTUAL_ELAPSED_TIME</th>\n",
        "      <th>AIRLINE_ID</th>\n",
        "      <th>AIR_TIME</th>\n",
        "      <th>ARR_DELAY</th>\n",
        "      <th>ARR_DELAY_NEW</th>\n",
        "      <th>ARR_TIME</th>\n",
        "      <th>CANCELLATION_CODE</th>\n",
        "      <th>CANCELLED</th>\n",
        "      <th>CARRIER_DELAY</th>\n",
        "      <th>...</th>\n",
        "      <th>TAXI_IN</th>\n",
        "      <th>TAXI_OUT</th>\n",
        "      <th>UNIQUE_CARRIER</th>\n",
        "      <th>Unnamed: 41</th>\n",
        "      <th>Unnamed: 44</th>\n",
        "      <th>WEATHER_DELAY</th>\n",
        "      <th>WHEELS_OFF</th>\n",
        "      <th>WHEELS_ON</th>\n",
        "      <th>YEAR</th>\n",
        "      <th>PRCP</th>\n",
        "    </tr>\n",
        "    <tr>\n",
        "      <th>Index</th>\n",
        "      <th></th>\n",
        "      <th></th>\n",
        "      <th></th>\n",
        "      <th></th>\n",
        "      <th></th>\n",
        "      <th></th>\n",
        "      <th></th>\n",
        "      <th></th>\n",
        "      <th></th>\n",
        "      <th></th>\n",
        "      <th></th>\n",
        "      <th></th>\n",
        "      <th></th>\n",
        "      <th></th>\n",
        "      <th></th>\n",
        "      <th></th>\n",
        "      <th></th>\n",
        "      <th></th>\n",
        "      <th></th>\n",
        "      <th></th>\n",
        "      <th></th>\n",
        "    </tr>\n",
        "  </thead>\n",
        "  <tbody>\n",
        "    <tr>\n",
        "      <th>0</th>\n",
        "      <td> 0</td>\n",
        "      <td> 116</td>\n",
        "      <td> 20363</td>\n",
        "      <td> 91</td>\n",
        "      <td>-20</td>\n",
        "      <td>NaN</td>\n",
        "      <td> 1404</td>\n",
        "      <td> NaN</td>\n",
        "      <td> 0</td>\n",
        "      <td>NaN</td>\n",
        "      <td>...</td>\n",
        "      <td>  8</td>\n",
        "      <td> 17</td>\n",
        "      <td> NaN</td>\n",
        "      <td>NaN</td>\n",
        "      <td>NaN</td>\n",
        "      <td>NaN</td>\n",
        "      <td> 1225</td>\n",
        "      <td> 1356</td>\n",
        "      <td> 2013</td>\n",
        "      <td>  0</td>\n",
        "    </tr>\n",
        "    <tr>\n",
        "      <th>1</th>\n",
        "      <td> 1</td>\n",
        "      <td> 115</td>\n",
        "      <td> 20363</td>\n",
        "      <td> 98</td>\n",
        "      <td>-21</td>\n",
        "      <td>NaN</td>\n",
        "      <td> 1403</td>\n",
        "      <td> NaN</td>\n",
        "      <td> 0</td>\n",
        "      <td>NaN</td>\n",
        "      <td>...</td>\n",
        "      <td>  3</td>\n",
        "      <td> 14</td>\n",
        "      <td> NaN</td>\n",
        "      <td>NaN</td>\n",
        "      <td>NaN</td>\n",
        "      <td>NaN</td>\n",
        "      <td> 1222</td>\n",
        "      <td> 1400</td>\n",
        "      <td> 2013</td>\n",
        "      <td>  0</td>\n",
        "    </tr>\n",
        "    <tr>\n",
        "      <th>2</th>\n",
        "      <td> 2</td>\n",
        "      <td> 112</td>\n",
        "      <td> 20363</td>\n",
        "      <td> 82</td>\n",
        "      <td>-20</td>\n",
        "      <td>NaN</td>\n",
        "      <td> 1404</td>\n",
        "      <td> NaN</td>\n",
        "      <td> 0</td>\n",
        "      <td>NaN</td>\n",
        "      <td>...</td>\n",
        "      <td> 16</td>\n",
        "      <td> 14</td>\n",
        "      <td> NaN</td>\n",
        "      <td>NaN</td>\n",
        "      <td>NaN</td>\n",
        "      <td>NaN</td>\n",
        "      <td> 1226</td>\n",
        "      <td> 1348</td>\n",
        "      <td> 2013</td>\n",
        "      <td>  0</td>\n",
        "    </tr>\n",
        "    <tr>\n",
        "      <th>3</th>\n",
        "      <td> 3</td>\n",
        "      <td> 111</td>\n",
        "      <td> 20363</td>\n",
        "      <td> 96</td>\n",
        "      <td>-20</td>\n",
        "      <td>NaN</td>\n",
        "      <td> 1404</td>\n",
        "      <td> NaN</td>\n",
        "      <td> 0</td>\n",
        "      <td>NaN</td>\n",
        "      <td>...</td>\n",
        "      <td>  3</td>\n",
        "      <td> 12</td>\n",
        "      <td> NaN</td>\n",
        "      <td>NaN</td>\n",
        "      <td>NaN</td>\n",
        "      <td>NaN</td>\n",
        "      <td> 1225</td>\n",
        "      <td> 1401</td>\n",
        "      <td> 2013</td>\n",
        "      <td> 28</td>\n",
        "    </tr>\n",
        "    <tr>\n",
        "      <th>4</th>\n",
        "      <td> 4</td>\n",
        "      <td> 126</td>\n",
        "      <td> 20363</td>\n",
        "      <td> 95</td>\n",
        "      <td>-10</td>\n",
        "      <td>NaN</td>\n",
        "      <td> 1414</td>\n",
        "      <td> NaN</td>\n",
        "      <td> 0</td>\n",
        "      <td>NaN</td>\n",
        "      <td>...</td>\n",
        "      <td>  3</td>\n",
        "      <td> 28</td>\n",
        "      <td> NaN</td>\n",
        "      <td>NaN</td>\n",
        "      <td>NaN</td>\n",
        "      <td>NaN</td>\n",
        "      <td> 1236</td>\n",
        "      <td> 1411</td>\n",
        "      <td> 2013</td>\n",
        "      <td> 79</td>\n",
        "    </tr>\n",
        "  </tbody>\n",
        "</table>\n",
        "<p>5 rows \u00d7 48 columns</p>\n",
        "</div>"
       ],
       "metadata": {},
       "output_type": "pyout",
       "prompt_number": 13,
       "text": [
        "       Unnamed: 0  ACTUAL_ELAPSED_TIME  AIRLINE_ID  AIR_TIME  ARR_DELAY  \\\n",
        "Index                                                                     \n",
        "0               0                  116       20363        91        -20   \n",
        "1               1                  115       20363        98        -21   \n",
        "2               2                  112       20363        82        -20   \n",
        "3               3                  111       20363        96        -20   \n",
        "4               4                  126       20363        95        -10   \n",
        "\n",
        "       ARR_DELAY_NEW  ARR_TIME CANCELLATION_CODE  CANCELLED  CARRIER_DELAY  \\\n",
        "Index                                                                        \n",
        "0                NaN      1404               NaN          0            NaN   \n",
        "1                NaN      1403               NaN          0            NaN   \n",
        "2                NaN      1404               NaN          0            NaN   \n",
        "3                NaN      1404               NaN          0            NaN   \n",
        "4                NaN      1414               NaN          0            NaN   \n",
        "\n",
        "           ...        TAXI_IN  TAXI_OUT  UNIQUE_CARRIER  Unnamed: 41  \\\n",
        "Index      ...                                                         \n",
        "0          ...              8        17             NaN          NaN   \n",
        "1          ...              3        14             NaN          NaN   \n",
        "2          ...             16        14             NaN          NaN   \n",
        "3          ...              3        12             NaN          NaN   \n",
        "4          ...              3        28             NaN          NaN   \n",
        "\n",
        "       Unnamed: 44  WEATHER_DELAY WHEELS_OFF  WHEELS_ON  YEAR  PRCP  \n",
        "Index                                                                \n",
        "0              NaN            NaN       1225       1356  2013     0  \n",
        "1              NaN            NaN       1222       1400  2013     0  \n",
        "2              NaN            NaN       1226       1348  2013     0  \n",
        "3              NaN            NaN       1225       1401  2013    28  \n",
        "4              NaN            NaN       1236       1411  2013    79  \n",
        "\n",
        "[5 rows x 48 columns]"
       ]
      }
     ],
     "prompt_number": 13
    },
    {
     "cell_type": "heading",
     "level": 1,
     "metadata": {},
     "source": [
      "Encoding Variables "
     ]
    },
    {
     "cell_type": "heading",
     "level": 2,
     "metadata": {},
     "source": [
      "Day of the Week"
     ]
    },
    {
     "cell_type": "code",
     "collapsed": false,
     "input": [
      "days = df2['DAY_OF_WEEK']\n",
      "\n",
      "# it is necessary to change the format of the days to [[1], [3], [7]...] rather than [1,3,7...] \n",
      "days = [[days[i]] for i in range(len(days))]\n",
      "ohe = preprocessing.OneHotEncoder()\n",
      "\n",
      "# Both the fitting and transform data must be in the form [[1], [3], [7]...]\n",
      "ohe.fit([[i] for i in range(1,8)])\n",
      "\n",
      "day_encoding = ohe.transform(days).toarray()\n",
      "print day_encoding"
     ],
     "language": "python",
     "metadata": {},
     "outputs": [
      {
       "output_type": "stream",
       "stream": "stdout",
       "text": [
        "[[ 0.  0.  1. ...,  0.  0.  0.]\n",
        " [ 0.  0.  0. ...,  0.  0.  0.]\n",
        " [ 0.  0.  0. ...,  1.  0.  0.]\n",
        " ..., \n",
        " [ 0.  1.  0. ...,  0.  0.  0.]\n",
        " [ 0.  1.  0. ...,  0.  0.  0.]\n",
        " [ 0.  1.  0. ...,  0.  0.  0.]]\n"
       ]
      }
     ],
     "prompt_number": 14
    },
    {
     "cell_type": "heading",
     "level": 2,
     "metadata": {},
     "source": [
      "Airline Carrier"
     ]
    },
    {
     "cell_type": "code",
     "collapsed": false,
     "input": [
      "test_airline_id = df2['AIRLINE_ID']\n",
      "\n",
      "# Converts airline id's : [13842, 34984, ...] to labels : [3, 5, 1 ...]\n",
      "test_carrier_labels = le.transform(test_airline_id)\n",
      "\n",
      "# Convert format \n",
      "test_carrier_labels = [[test_carrier_labels[i]] for i in range(len(test_carrier_labels))]\n",
      "\n",
      "test_airline_encoding = ohe2.transform(test_carrier_labels).toarray()\n",
      "\n",
      "print test_airline_encoding"
     ],
     "language": "python",
     "metadata": {},
     "outputs": [
      {
       "output_type": "stream",
       "stream": "stdout",
       "text": [
        "[[ 0.  0.  0. ...,  0.  0.  0.]\n",
        " [ 0.  0.  0. ...,  0.  0.  0.]\n",
        " [ 0.  0.  0. ...,  0.  0.  0.]\n",
        " ..., \n",
        " [ 1.  0.  0. ...,  0.  0.  0.]\n",
        " [ 1.  0.  0. ...,  0.  0.  0.]\n",
        " [ 1.  0.  0. ...,  0.  0.  0.]]\n"
       ]
      }
     ],
     "prompt_number": 15
    },
    {
     "cell_type": "heading",
     "level": 2,
     "metadata": {},
     "source": [
      "Time of Day"
     ]
    },
    {
     "cell_type": "code",
     "collapsed": false,
     "input": [
      "time = df2['DEP_TIME']\n",
      "\n",
      "for i in range(len(time)):\n",
      "    old_time = time[i] \n",
      "    \n",
      "    # If the time is before midnight, then simply subtract 500 from it \n",
      "    if old_time <= 2359 and old_time >= 500:\n",
      "        new_time = old_time - 500\n",
      "    # Otherwise, the time must be between 000 and 500, so simply add 2400 - 500 = 1900\n",
      "    else: \n",
      "        new_time = old_time + 2400 - 500\n",
      "        \n",
      "    # Conversion from MMHH to \"Number of Hours since 5 AM\"\n",
      "    time[i] = (new_time % 100)/ 60.0 + new_time / 100"
     ],
     "language": "python",
     "metadata": {},
     "outputs": [],
     "prompt_number": 16
    },
    {
     "cell_type": "heading",
     "level": 2,
     "metadata": {},
     "source": [
      "Distance and Precipitation"
     ]
    },
    {
     "cell_type": "code",
     "collapsed": false,
     "input": [
      "distance = df2['DISTANCE']\n",
      "precipitation = df2['PRCP']"
     ],
     "language": "python",
     "metadata": {},
     "outputs": [],
     "prompt_number": 17
    },
    {
     "cell_type": "heading",
     "level": 2,
     "metadata": {},
     "source": [
      "Merging DataFrames"
     ]
    },
    {
     "cell_type": "code",
     "collapsed": false,
     "input": [
      "newresult = pd.DataFrame(time)\n",
      "\n",
      "newresult = newresult.join(distance)\n",
      "newresult = newresult.join(precipitation)\n",
      "newresult = newresult.join(pd.DataFrame(day_encoding))\n",
      "\n",
      "# Purpose: problems occur if you join data frames with the same column names (0,1,2,3...)\n",
      "newresult.columns = ['DEP_TIME since 5am', 'DISTANCE', 'PRCP', 'MON', 'TUE', 'WED', 'THU', 'FRI', 'SAT', 'SUN']\n",
      "newresult = newresult.join(pd.DataFrame(test_airline_encoding))\n",
      "\n",
      "newresult.head()"
     ],
     "language": "python",
     "metadata": {},
     "outputs": [
      {
       "html": [
        "<div style=\"max-height:1000px;max-width:1500px;overflow:auto;\">\n",
        "<table border=\"1\" class=\"dataframe\">\n",
        "  <thead>\n",
        "    <tr style=\"text-align: right;\">\n",
        "      <th></th>\n",
        "      <th>DEP_TIME since 5am</th>\n",
        "      <th>DISTANCE</th>\n",
        "      <th>PRCP</th>\n",
        "      <th>MON</th>\n",
        "      <th>TUE</th>\n",
        "      <th>WED</th>\n",
        "      <th>THU</th>\n",
        "      <th>FRI</th>\n",
        "      <th>SAT</th>\n",
        "      <th>SUN</th>\n",
        "      <th>...</th>\n",
        "      <th>7</th>\n",
        "      <th>8</th>\n",
        "      <th>9</th>\n",
        "      <th>10</th>\n",
        "      <th>11</th>\n",
        "      <th>12</th>\n",
        "      <th>13</th>\n",
        "      <th>14</th>\n",
        "      <th>15</th>\n",
        "      <th>16</th>\n",
        "    </tr>\n",
        "    <tr>\n",
        "      <th>Index</th>\n",
        "      <th></th>\n",
        "      <th></th>\n",
        "      <th></th>\n",
        "      <th></th>\n",
        "      <th></th>\n",
        "      <th></th>\n",
        "      <th></th>\n",
        "      <th></th>\n",
        "      <th></th>\n",
        "      <th></th>\n",
        "      <th></th>\n",
        "      <th></th>\n",
        "      <th></th>\n",
        "      <th></th>\n",
        "      <th></th>\n",
        "      <th></th>\n",
        "      <th></th>\n",
        "      <th></th>\n",
        "      <th></th>\n",
        "      <th></th>\n",
        "      <th></th>\n",
        "    </tr>\n",
        "  </thead>\n",
        "  <tbody>\n",
        "    <tr>\n",
        "      <th>0</th>\n",
        "      <td> 7.213333</td>\n",
        "      <td> 612</td>\n",
        "      <td>  0</td>\n",
        "      <td> 0</td>\n",
        "      <td> 0</td>\n",
        "      <td> 1</td>\n",
        "      <td> 0</td>\n",
        "      <td> 0</td>\n",
        "      <td> 0</td>\n",
        "      <td> 0</td>\n",
        "      <td>...</td>\n",
        "      <td> 0</td>\n",
        "      <td> 1</td>\n",
        "      <td> 0</td>\n",
        "      <td> 0</td>\n",
        "      <td> 0</td>\n",
        "      <td> 0</td>\n",
        "      <td> 0</td>\n",
        "      <td> 0</td>\n",
        "      <td> 0</td>\n",
        "      <td> 0</td>\n",
        "    </tr>\n",
        "    <tr>\n",
        "      <th>1</th>\n",
        "      <td> 7.213333</td>\n",
        "      <td> 612</td>\n",
        "      <td>  0</td>\n",
        "      <td> 0</td>\n",
        "      <td> 0</td>\n",
        "      <td> 0</td>\n",
        "      <td> 1</td>\n",
        "      <td> 0</td>\n",
        "      <td> 0</td>\n",
        "      <td> 0</td>\n",
        "      <td>...</td>\n",
        "      <td> 0</td>\n",
        "      <td> 1</td>\n",
        "      <td> 0</td>\n",
        "      <td> 0</td>\n",
        "      <td> 0</td>\n",
        "      <td> 0</td>\n",
        "      <td> 0</td>\n",
        "      <td> 0</td>\n",
        "      <td> 0</td>\n",
        "      <td> 0</td>\n",
        "    </tr>\n",
        "    <tr>\n",
        "      <th>2</th>\n",
        "      <td> 7.320000</td>\n",
        "      <td> 612</td>\n",
        "      <td>  0</td>\n",
        "      <td> 0</td>\n",
        "      <td> 0</td>\n",
        "      <td> 0</td>\n",
        "      <td> 0</td>\n",
        "      <td> 1</td>\n",
        "      <td> 0</td>\n",
        "      <td> 0</td>\n",
        "      <td>...</td>\n",
        "      <td> 0</td>\n",
        "      <td> 1</td>\n",
        "      <td> 0</td>\n",
        "      <td> 0</td>\n",
        "      <td> 0</td>\n",
        "      <td> 0</td>\n",
        "      <td> 0</td>\n",
        "      <td> 0</td>\n",
        "      <td> 0</td>\n",
        "      <td> 0</td>\n",
        "    </tr>\n",
        "    <tr>\n",
        "      <th>3</th>\n",
        "      <td> 7.346667</td>\n",
        "      <td> 612</td>\n",
        "      <td> 28</td>\n",
        "      <td> 0</td>\n",
        "      <td> 0</td>\n",
        "      <td> 0</td>\n",
        "      <td> 0</td>\n",
        "      <td> 0</td>\n",
        "      <td> 0</td>\n",
        "      <td> 1</td>\n",
        "      <td>...</td>\n",
        "      <td> 0</td>\n",
        "      <td> 1</td>\n",
        "      <td> 0</td>\n",
        "      <td> 0</td>\n",
        "      <td> 0</td>\n",
        "      <td> 0</td>\n",
        "      <td> 0</td>\n",
        "      <td> 0</td>\n",
        "      <td> 0</td>\n",
        "      <td> 0</td>\n",
        "    </tr>\n",
        "    <tr>\n",
        "      <th>4</th>\n",
        "      <td> 7.213333</td>\n",
        "      <td> 612</td>\n",
        "      <td> 79</td>\n",
        "      <td> 1</td>\n",
        "      <td> 0</td>\n",
        "      <td> 0</td>\n",
        "      <td> 0</td>\n",
        "      <td> 0</td>\n",
        "      <td> 0</td>\n",
        "      <td> 0</td>\n",
        "      <td>...</td>\n",
        "      <td> 0</td>\n",
        "      <td> 1</td>\n",
        "      <td> 0</td>\n",
        "      <td> 0</td>\n",
        "      <td> 0</td>\n",
        "      <td> 0</td>\n",
        "      <td> 0</td>\n",
        "      <td> 0</td>\n",
        "      <td> 0</td>\n",
        "      <td> 0</td>\n",
        "    </tr>\n",
        "  </tbody>\n",
        "</table>\n",
        "<p>5 rows \u00d7 27 columns</p>\n",
        "</div>"
       ],
       "metadata": {},
       "output_type": "pyout",
       "prompt_number": 18,
       "text": [
        "       DEP_TIME since 5am  DISTANCE  PRCP  MON  TUE  WED  THU  FRI  SAT  SUN  \\\n",
        "Index                                                                          \n",
        "0                7.213333       612     0    0    0    1    0    0    0    0   \n",
        "1                7.213333       612     0    0    0    0    1    0    0    0   \n",
        "2                7.320000       612     0    0    0    0    0    1    0    0   \n",
        "3                7.346667       612    28    0    0    0    0    0    0    1   \n",
        "4                7.213333       612    79    1    0    0    0    0    0    0   \n",
        "\n",
        "      ...   7  8  9  10  11  12  13  14  15  16  \n",
        "Index ...                                        \n",
        "0     ...   0  1  0   0   0   0   0   0   0   0  \n",
        "1     ...   0  1  0   0   0   0   0   0   0   0  \n",
        "2     ...   0  1  0   0   0   0   0   0   0   0  \n",
        "3     ...   0  1  0   0   0   0   0   0   0   0  \n",
        "4     ...   0  1  0   0   0   0   0   0   0   0  \n",
        "\n",
        "[5 rows x 27 columns]"
       ]
      }
     ],
     "prompt_number": 18
    },
    {
     "cell_type": "heading",
     "level": 2,
     "metadata": {},
     "source": [
      "Studying Number of Trees"
     ]
    },
    {
     "cell_type": "code",
     "collapsed": false,
     "input": [
      "X = result.as_matrix() \n",
      "Y = np.zeros(len(result))\n",
      "\n",
      "#USING CUTOFF OF 15 MINUTES to study performance with various number of trees in the forest\n",
      "\n",
      "cutoff = 15 # minutes \n",
      "\n",
      "for i in range(len(result)):\n",
      "    if df['ARR_DELAY'][i] >= cutoff: \n",
      "        Y[i] = 1\n",
      "print Y"
     ],
     "language": "python",
     "metadata": {},
     "outputs": [
      {
       "output_type": "stream",
       "stream": "stdout",
       "text": [
        "[ 1.  0.  0. ...,  1.  0.  1.]\n"
       ]
      }
     ],
     "prompt_number": 19
    },
    {
     "cell_type": "code",
     "collapsed": false,
     "input": [
      "allscores = []\n",
      "for k in [5,10,15,20]: # Number of random forest decision trees\n",
      "    rfc = RandomForestClassifier(k)\n",
      "    rfc = rfc.fit(X,Y)\n",
      "    \n",
      "    #Cross validation 5-fold\n",
      "    score = cross_val_score(rfc, X, Y, cv=5)\n",
      "    \n",
      "    #append scores\n",
      "    allscores.append(score)"
     ],
     "language": "python",
     "metadata": {},
     "outputs": []
    },
    {
     "cell_type": "code",
     "collapsed": false,
     "input": [
      "#make boxplot for performance with different number of decision trees\n",
      "sns.boxplot(allscores, color=\"pastel\", widths=.5)\n",
      "plt.title(\"Random Forest Performance with Cutoff=15 minutes\")\n",
      "plt.xlabel(\"Number of Decision Trees: Group 1 = 5, Group 2 = 10, Group 3 = 15, Group 4 = 20\")\n",
      "plt.ylabel(\"Classification Accuracy\")"
     ],
     "language": "python",
     "metadata": {},
     "outputs": [
      {
       "metadata": {},
       "output_type": "pyout",
       "prompt_number": 40,
       "text": [
        "<matplotlib.text.Text at 0x11354ae90>"
       ]
      },
      {
       "metadata": {},
       "output_type": "display_data",
       "png": "[encoded data removed]",
       "text": [
        "<matplotlib.figure.Figure at 0x113524790>"
       ]
      }
     ],
     "prompt_number": 40
    },
    {
     "cell_type": "code",
     "collapsed": false,
     "input": [
      "#Based on this boxplot, we see there are diminishing marginal returns to increasing the number of decision trees. Therefore\n",
      "#we will use 10 trees in our random forest models from here on.\n",
      "\n",
      "numTrees = 10"
     ],
     "language": "python",
     "metadata": {},
     "outputs": [],
     "prompt_number": 20
    },
    {
     "cell_type": "heading",
     "level": 2,
     "metadata": {},
     "source": [
      "Running Model with Cutoff 0 minutes on Training Data"
     ]
    },
    {
     "cell_type": "code",
     "collapsed": false,
     "input": [
      "X = result.as_matrix()\n",
      "Y = np.zeros(len(result))\n",
      "\n",
      "cutoff = 0 # minutes \n",
      "\n",
      "for i in range(len(result)):\n",
      "    if df['ARR_DELAY'][i] >= cutoff:\n",
      "        Y[i] = 1\n",
      "print Y\n",
      "\n",
      "rfc = RandomForestClassifier(numTrees)\n",
      "rfc = rfc.fit(X,Y)"
     ],
     "language": "python",
     "metadata": {},
     "outputs": [
      {
       "output_type": "stream",
       "stream": "stdout",
       "text": [
        "[ 1.  0.  1. ...,  1.  0.  1.]\n"
       ]
      }
     ],
     "prompt_number": 21
    },
    {
     "cell_type": "code",
     "collapsed": false,
     "input": [
      "cutoff0trainingProb = rfc.predict_proba(X)\n",
      "cutoff0trainingProb"
     ],
     "language": "python",
     "metadata": {},
     "outputs": [
      {
       "metadata": {},
       "output_type": "pyout",
       "prompt_number": 22,
       "text": [
        "array([[ 0.2       ,  0.8       ],\n",
        "       [ 1.        ,  0.        ],\n",
        "       [ 0.3       ,  0.7       ],\n",
        "       ..., \n",
        "       [ 0.        ,  1.        ],\n",
        "       [ 0.29761905,  0.70238095],\n",
        "       [ 0.3       ,  0.7       ]])"
       ]
      }
     ],
     "prompt_number": 22
    },
    {
     "cell_type": "code",
     "collapsed": false,
     "input": [
      "#Now we take a quick look at the feature importance of the random forest model for this 0 minute cutoff.\n",
      "\n",
      "plt.bar(left=range(27),height=rfc.feature_importances_)\n",
      "plt.title(\"Feature Importance of Random Forest, Cutoff=0 Minutes\")\n",
      "plt.xlabel(\"Feature, by Column in the Matrix\")\n",
      "plt.ylabel(\"Importance Level\")\n",
      "\n",
      "#It appears that time of day, distance of flight, and precipitation level are the most important factors. This may,\n",
      "#unofortunately, be slightly inaccurate due to the fact that the categorical variables have their feature importance\n",
      "#\"split\" over several columns of the matrix. However, adding the importances of the parts of each categorical variable\n",
      "#still yield feature importance much smaller than time of day, distance of flight, and precipitation level."
     ],
     "language": "python",
     "metadata": {},
     "outputs": [
      {
       "metadata": {},
       "output_type": "pyout",
       "prompt_number": 31,
       "text": [
        "<matplotlib.text.Text at 0x149d81a10>"
       ]
      },
      {
       "metadata": {},
       "output_type": "display_data",
       "png": "[encoded data removed]",
       "text": [
        "<matplotlib.figure.Figure at 0x149d4f250>"
       ]
      }
     ],
     "prompt_number": 31
    },
    {
     "cell_type": "heading",
     "level": 1,
     "metadata": {},
     "source": [
      "Trying Different Cutoffs"
     ]
    },
    {
     "cell_type": "raw",
     "metadata": {},
     "source": [
      "Let's construct feature importance plots for some other cutoffs as well."
     ]
    },
    {
     "cell_type": "code",
     "collapsed": false,
     "input": [
      "for cutoff in [-10,0,10,30,60]:\n",
      "\n",
      "    X = result.as_matrix()\n",
      "    Y = np.zeros(len(result))\n",
      "\n",
      "    for i in range(len(result)):\n",
      "        if df['ARR_DELAY'][i] >= cutoff:\n",
      "            Y[i] = 1\n",
      "    print Y\n",
      "\n",
      "    rfc = RandomForestClassifier(numTrees)\n",
      "    rfc = rfc.fit(X,Y)\n",
      "\n",
      "    plt.bar(left=range(27),height=rfc.feature_importances_)\n",
      "    plt.title(\"Feature Importance of Random Forest\")\n",
      "    plt.xlabel(\"Feature, by Column in the Matrix\")\n",
      "    plt.ylabel(\"Importance Level\")\n",
      "    \n",
      "    plt.figure()\n",
      "    \n",
      "    #We see that feature importance is fairly similar across the different cutoffs. The distance factor becomes slightly\n",
      "    #more important as the delay cutoff increases."
     ],
     "language": "python",
     "metadata": {},
     "outputs": [
      {
       "output_type": "stream",
       "stream": "stdout",
       "text": [
        "[ 1.  1.  1. ...,  1.  1.  1.]\n",
        "[ 1.  0.  1. ...,  1.  0.  1.]"
       ]
      },
      {
       "output_type": "stream",
       "stream": "stdout",
       "text": [
        "\n",
        "[ 1.  0.  1. ...,  1.  0.  1.]"
       ]
      },
      {
       "output_type": "stream",
       "stream": "stdout",
       "text": [
        "\n",
        "[ 0.  0.  0. ...,  1.  0.  1.]"
       ]
      },
      {
       "output_type": "stream",
       "stream": "stdout",
       "text": [
        "\n",
        "[ 0.  0.  0. ...,  0.  0.  1.]"
       ]
      },
      {
       "output_type": "stream",
       "stream": "stdout",
       "text": [
        "\n"
       ]
      },
      {
       "metadata": {},
       "output_type": "display_data",
       "png": "[encoded data removed]",
       "text": [
        "<matplotlib.figure.Figure at 0x126edd150>"
       ]
      },
      {
       "metadata": {},
       "output_type": "display_data",
       "png": "[encoded data removed]",
       "text": [
        "<matplotlib.figure.Figure at 0x10f722350>"
       ]
      },
      {
       "metadata": {},
       "output_type": "display_data",
       "png": "[encoded data removed]",
       "text": [
        "<matplotlib.figure.Figure at 0x10f17a290>"
       ]
      },
      {
       "metadata": {},
       "output_type": "display_data",
       "png": "[encoded data removed]",
       "text": [
        "<matplotlib.figure.Figure at 0x11406f950>"
       ]
      },
      {
       "metadata": {},
       "output_type": "display_data",
       "png": "[encoded data removed]",
       "text": [
        "<matplotlib.figure.Figure at 0x10f151850>"
       ]
      },
      {
       "metadata": {},
       "output_type": "display_data",
       "text": [
        "<matplotlib.figure.Figure at 0x1491ebd10>"
       ]
      }
     ],
     "prompt_number": 34
    },
    {
     "cell_type": "markdown",
     "metadata": {},
     "source": [
      "Next, we study how our model compares to the trivial classifications (saying all flights are delayed or all flights are on-time). We want to find which delay cutoffs give largest differences between our model's accuracy and that of the trivial classification. "
     ]
    },
    {
     "cell_type": "code",
     "collapsed": false,
     "input": [
      "#Here, we complete this analysis for the different cutoff values.\n",
      "\n",
      "numTrees = 10\n",
      "\n",
      "# Storing all the Random Forest Classifiers\n",
      "rfcs = []\n",
      "\n",
      "# Range of values to be tested as the delay cutoff \n",
      "ranges = [-15, -10, -5, 0, 5, 10, 15, 30, 60, 90, 120]\n",
      "\n",
      "# Arrays to keep track of model and trivial scores\n",
      "scores = [] \n",
      "trivial = []\n",
      "\n",
      "X = result.as_matrix()\n",
      "\n",
      "# Appends onto scores and trivial the appropriate cross_val score or the proportion of delays\n",
      "def analyzeDelayCutoff(cutoff): \n",
      "    Y = np.zeros(len(result))\n",
      "\n",
      "    # Creating a binary delay result\n",
      "    for i in range(len(result)):\n",
      "        if df['ARR_DELAY'][i] >= cutoff:\n",
      "            Y[i] = 1.0\n",
      "\n",
      "    rfc = RandomForestClassifier(numTrees)\n",
      "    rfc = rfc.fit(X,Y)\n",
      "\n",
      "    rfcs.append(rfc)\n",
      "    \n",
      "    # Trivial Accuracy \n",
      "    trivial.append(np.sum(Y)/len(Y))\n",
      "    \n",
      "    # Our Model's Accuracy \n",
      "    scores.append(np.mean(cross_val_score(rfc, X, Y, cv=5)))\n",
      "\n",
      "for i in ranges:\n",
      "    analyzeDelayCutoff(i)"
     ],
     "language": "python",
     "metadata": {},
     "outputs": []
    },
    {
     "cell_type": "code",
     "collapsed": false,
     "input": [
      "# Computes the cutoff with the largest difference in trivial and model\n",
      "trivialvmodel = []\n",
      "def TrivialVsModel(trivial, model):\n",
      "    differences = [model[i] - max(trivial[i], 1 - trivial[i]) for i in range(len(trivial))]\n",
      "    print differences \n",
      "    trivialvmodel.append(differences)\n",
      "    return differences.index(max(differences))\n",
      "\n",
      "TrivialVsModel(trivial, scores)"
     ],
     "language": "python",
     "metadata": {},
     "outputs": [
      {
       "output_type": "stream",
       "stream": "stdout",
       "text": [
        "[-0.050329648323168219, -0.0022190933144627945, 0.10402603653555964, 0.037869856840697103, 0.015807480000925134, 0.0072120574074460153, 0.0053548790119856138]\n"
       ]
      },
      {
       "metadata": {},
       "output_type": "pyout",
       "prompt_number": 57,
       "text": [
        "2"
       ]
      }
     ],
     "prompt_number": 57
    },
    {
     "cell_type": "code",
     "collapsed": false,
     "input": [
      "x = [-15, -10, -5, 0, 5, 10, 15, 30, 60, 90, 120]\n",
      "plt.scatter(x, trivialvmodel)\n",
      "plt.title(\"Model's Improvement on Classification over Baseline\")\n",
      "plt.xlabel(\"Cutoff (minutes)\")\n",
      "plt.ylabel(\"Difference in Classification Accuracy\")"
     ],
     "language": "python",
     "metadata": {},
     "outputs": [
      {
       "metadata": {},
       "output_type": "pyout",
       "prompt_number": 58,
       "text": [
        "<matplotlib.text.Text at 0x10f1a7e50>"
       ]
      },
      {
       "metadata": {},
       "output_type": "display_data",
       "png": "[encoded data removed]",
       "text": [
        "<matplotlib.figure.Figure at 0x10f1896d0>"
       ]
      }
     ],
     "prompt_number": 58
    },
    {
     "cell_type": "code",
     "collapsed": false,
     "input": [
      "#It appears that the cutoff of -5 minutes yields better results than the other cutoffs."
     ],
     "language": "python",
     "metadata": {},
     "outputs": [],
     "prompt_number": 49
    },
    {
     "cell_type": "markdown",
     "metadata": {},
     "source": [
      "Now, let's complete similar analysis for the cutoffs of 30, 45, 60, 75, and 90 minutes."
     ]
    },
    {
     "cell_type": "code",
     "collapsed": false,
     "input": [
      "# Storing all the Random Forest Classifiers\n",
      "rfcs2 = []\n",
      "\n",
      "# Range of values to be tested as the delay cutoff \n",
      "ranges2 = [30,45,60,75,90]\n",
      "\n",
      "# Arrays to keep track of model and trivial scores\n",
      "scores2 = [] \n",
      "trivial2 = []\n",
      "\n",
      "X = result.as_matrix()\n",
      "\n",
      "# Appends onto scores and trivial the appropriate cross_val score or the proportion of delays\n",
      "def analyzeDelayCutoff(cutoff): \n",
      "    Y = np.zeros(len(result))\n",
      "\n",
      "    # Creating a binary delay result\n",
      "    for i in range(len(result)):\n",
      "        if df['ARR_DELAY'][i] >= cutoff:\n",
      "            Y[i] = 1.0\n",
      "\n",
      "    rfc = RandomForestClassifier(numTrees)\n",
      "    rfc = rfc.fit(X,Y)\n",
      "\n",
      "    rfcs2.append(rfc)\n",
      "    \n",
      "    # Trivial Accuracy \n",
      "    trivial2.append(np.sum(Y)/len(Y))\n",
      "    \n",
      "    # Our Model's Accuracy \n",
      "    scores2.append(np.mean(cross_val_score(rfc, X, Y, cv=5)))\n",
      "\n",
      "for i in ranges2:\n",
      "    analyzeDelayCutoff(i)"
     ],
     "language": "python",
     "metadata": {},
     "outputs": [],
     "prompt_number": 69
    },
    {
     "cell_type": "code",
     "collapsed": false,
     "input": [
      "# Computes the cutoff with the largest difference in trivial and model\n",
      "trivialvmodel2 = []\n",
      "def TrivialVsModel(trivial2, model2):\n",
      "    differences = [model2[i] - max(trivial2[i], 1 - trivial2[i]) for i in range(len(trivial2))]\n",
      "    print differences \n",
      "    trivialvmodel2.append(differences)\n",
      "    return differences.index(max(differences))\n",
      "\n",
      "#TrivialVsModel(trivial2, scores2)"
     ],
     "language": "python",
     "metadata": {},
     "outputs": [],
     "prompt_number": 78
    },
    {
     "cell_type": "code",
     "collapsed": false,
     "input": [
      "trivialvmodel2"
     ],
     "language": "python",
     "metadata": {},
     "outputs": [
      {
       "metadata": {},
       "output_type": "pyout",
       "prompt_number": 79,
       "text": [
        "[]"
       ]
      }
     ],
     "prompt_number": 79
    },
    {
     "cell_type": "code",
     "collapsed": false,
     "input": [
      "x = [30,45,60,75,90]\n",
      "plt.scatter(x, trivialvmodel2)\n",
      "plt.title(\"Model's Improvement on Classification over Baseline\")\n",
      "plt.xlabel(\"Cutoff (minutes)\")\n",
      "plt.ylabel(\"Difference in Classification Accuracy\")"
     ],
     "language": "python",
     "metadata": {},
     "outputs": [
      {
       "ename": "ValueError",
       "evalue": "x and y must be the same size",
       "output_type": "pyerr",
       "traceback": [
        "\u001b[0;31m---------------------------------------------------------------------------\u001b[0m\n\u001b[0;31mValueError\u001b[0m                                Traceback (most recent call last)",
        "\u001b[0;32m<ipython-input-65-e1abe725d04b>\u001b[0m in \u001b[0;36m<module>\u001b[0;34m()\u001b[0m\n\u001b[1;32m      1\u001b[0m \u001b[0mx\u001b[0m \u001b[0;34m=\u001b[0m \u001b[0;34m[\u001b[0m\u001b[0;36m30\u001b[0m\u001b[0;34m,\u001b[0m\u001b[0;36m45\u001b[0m\u001b[0;34m,\u001b[0m\u001b[0;36m60\u001b[0m\u001b[0;34m,\u001b[0m\u001b[0;36m75\u001b[0m\u001b[0;34m,\u001b[0m\u001b[0;36m90\u001b[0m\u001b[0;34m]\u001b[0m\u001b[0;34m\u001b[0m\u001b[0m\n\u001b[0;32m----> 2\u001b[0;31m \u001b[0mplt\u001b[0m\u001b[0;34m.\u001b[0m\u001b[0mscatter\u001b[0m\u001b[0;34m(\u001b[0m\u001b[0mx\u001b[0m\u001b[0;34m,\u001b[0m \u001b[0mtrivialvmodel2\u001b[0m\u001b[0;34m)\u001b[0m\u001b[0;34m\u001b[0m\u001b[0m\n\u001b[0m\u001b[1;32m      3\u001b[0m \u001b[0mplt\u001b[0m\u001b[0;34m.\u001b[0m\u001b[0mtitle\u001b[0m\u001b[0;34m(\u001b[0m\u001b[0;34m\"Model's Improvement on Classification over Baseline\"\u001b[0m\u001b[0;34m)\u001b[0m\u001b[0;34m\u001b[0m\u001b[0m\n\u001b[1;32m      4\u001b[0m \u001b[0mplt\u001b[0m\u001b[0;34m.\u001b[0m\u001b[0mxlabel\u001b[0m\u001b[0;34m(\u001b[0m\u001b[0;34m\"Cutoff (minutes)\"\u001b[0m\u001b[0;34m)\u001b[0m\u001b[0;34m\u001b[0m\u001b[0m\n\u001b[1;32m      5\u001b[0m \u001b[0mplt\u001b[0m\u001b[0;34m.\u001b[0m\u001b[0mylabel\u001b[0m\u001b[0;34m(\u001b[0m\u001b[0;34m\"Difference in Classification Accuracy\"\u001b[0m\u001b[0;34m)\u001b[0m\u001b[0;34m\u001b[0m\u001b[0m\n",
        "\u001b[0;32m/Users/robertchen/anaconda/lib/python2.7/site-packages/matplotlib/pyplot.pyc\u001b[0m in \u001b[0;36mscatter\u001b[0;34m(x, y, s, c, marker, cmap, norm, vmin, vmax, alpha, linewidths, verts, hold, **kwargs)\u001b[0m\n\u001b[1;32m   3085\u001b[0m         ret = ax.scatter(x, y, s=s, c=c, marker=marker, cmap=cmap, norm=norm,\n\u001b[1;32m   3086\u001b[0m                          \u001b[0mvmin\u001b[0m\u001b[0;34m=\u001b[0m\u001b[0mvmin\u001b[0m\u001b[0;34m,\u001b[0m \u001b[0mvmax\u001b[0m\u001b[0;34m=\u001b[0m\u001b[0mvmax\u001b[0m\u001b[0;34m,\u001b[0m \u001b[0malpha\u001b[0m\u001b[0;34m=\u001b[0m\u001b[0malpha\u001b[0m\u001b[0;34m,\u001b[0m\u001b[0;34m\u001b[0m\u001b[0m\n\u001b[0;32m-> 3087\u001b[0;31m                          linewidths=linewidths, verts=verts, **kwargs)\n\u001b[0m\u001b[1;32m   3088\u001b[0m         \u001b[0mdraw_if_interactive\u001b[0m\u001b[0;34m(\u001b[0m\u001b[0;34m)\u001b[0m\u001b[0;34m\u001b[0m\u001b[0m\n\u001b[1;32m   3089\u001b[0m     \u001b[0;32mfinally\u001b[0m\u001b[0;34m:\u001b[0m\u001b[0;34m\u001b[0m\u001b[0m\n",
        "\u001b[0;32m/Users/robertchen/anaconda/lib/python2.7/site-packages/matplotlib/axes.pyc\u001b[0m in \u001b[0;36mscatter\u001b[0;34m(self, x, y, s, c, marker, cmap, norm, vmin, vmax, alpha, linewidths, verts, **kwargs)\u001b[0m\n\u001b[1;32m   6254\u001b[0m         \u001b[0my\u001b[0m \u001b[0;34m=\u001b[0m \u001b[0mnp\u001b[0m\u001b[0;34m.\u001b[0m\u001b[0mma\u001b[0m\u001b[0;34m.\u001b[0m\u001b[0mravel\u001b[0m\u001b[0;34m(\u001b[0m\u001b[0my\u001b[0m\u001b[0;34m)\u001b[0m\u001b[0;34m\u001b[0m\u001b[0m\n\u001b[1;32m   6255\u001b[0m         \u001b[0;32mif\u001b[0m \u001b[0mx\u001b[0m\u001b[0;34m.\u001b[0m\u001b[0msize\u001b[0m \u001b[0;34m!=\u001b[0m \u001b[0my\u001b[0m\u001b[0;34m.\u001b[0m\u001b[0msize\u001b[0m\u001b[0;34m:\u001b[0m\u001b[0;34m\u001b[0m\u001b[0m\n\u001b[0;32m-> 6256\u001b[0;31m             \u001b[0;32mraise\u001b[0m \u001b[0mValueError\u001b[0m\u001b[0;34m(\u001b[0m\u001b[0;34m\"x and y must be the same size\"\u001b[0m\u001b[0;34m)\u001b[0m\u001b[0;34m\u001b[0m\u001b[0m\n\u001b[0m\u001b[1;32m   6257\u001b[0m \u001b[0;34m\u001b[0m\u001b[0m\n\u001b[1;32m   6258\u001b[0m         \u001b[0ms\u001b[0m \u001b[0;34m=\u001b[0m \u001b[0mnp\u001b[0m\u001b[0;34m.\u001b[0m\u001b[0mma\u001b[0m\u001b[0;34m.\u001b[0m\u001b[0mravel\u001b[0m\u001b[0;34m(\u001b[0m\u001b[0ms\u001b[0m\u001b[0;34m)\u001b[0m  \u001b[0;31m# This doesn't have to match x, y in size.\u001b[0m\u001b[0;34m\u001b[0m\u001b[0m\n",
        "\u001b[0;31mValueError\u001b[0m: x and y must be the same size"
       ]
      },
      {
       "metadata": {},
       "output_type": "display_data",
       "png": "[encoded data removed]",
       "text": [
        "<matplotlib.figure.Figure at 0x10f3a3390>"
       ]
      }
     ],
     "prompt_number": 65
    },
    {
     "cell_type": "code",
     "collapsed": false,
     "input": [],
     "language": "python",
     "metadata": {},
     "outputs": []
    },
    {
     "cell_type": "code",
     "collapsed": false,
     "input": [],
     "language": "python",
     "metadata": {},
     "outputs": []
    },
    {
     "cell_type": "heading",
     "level": 2,
     "metadata": {},
     "source": [
      "Use this to Run Model with a Specific Cutoff (on Training Data)"
     ]
    },
    {
     "cell_type": "code",
     "collapsed": false,
     "input": [
      "X = result.as_matrix()\n",
      "Y = np.zeros(len(result))\n",
      "\n",
      "cutoff = 0 # insert cutoff here \n",
      "\n",
      "for i in range(len(result)):\n",
      "    if df['ARR_DELAY'][i] >= cutoff:\n",
      "        Y[i] = 1\n",
      "\n",
      "rfc = RandomForestClassifier(numTrees)\n",
      "rfc = rfc.fit(X,Y)\n",
      "\n",
      "nameOfMatrixGoesHere = rfc.predict_proba(X) #this produces prediction probability of no delay and yes delay, respectively."
     ],
     "language": "python",
     "metadata": {},
     "outputs": [],
     "prompt_number": 51
    },
    {
     "cell_type": "code",
     "collapsed": false,
     "input": [
      "nameOfMatrixGoesHere"
     ],
     "language": "python",
     "metadata": {},
     "outputs": [
      {
       "metadata": {},
       "output_type": "pyout",
       "prompt_number": 52,
       "text": [
        "array([[ 0.2  ,  0.8  ],\n",
        "       [ 0.9  ,  0.1  ],\n",
        "       [ 0.1  ,  0.9  ],\n",
        "       ..., \n",
        "       [ 0.   ,  1.   ],\n",
        "       [ 0.325,  0.675],\n",
        "       [ 0.1  ,  0.9  ]])"
       ]
      }
     ],
     "prompt_number": 52
    },
    {
     "cell_type": "heading",
     "level": 2,
     "metadata": {},
     "source": [
      "Use this to Run Model with a List of Cutoffs (on Training Data)"
     ]
    },
    {
     "cell_type": "code",
     "collapsed": false,
     "input": [
      "early_to_late = [] #will contain a list of numpy arrays, corresponding to prediction probability arrays for each cutoff\n",
      "\n",
      "for cut in range(-15,16,5): #insert list of cutoffs here\n",
      "    X = result.as_matrix()\n",
      "    Y = np.zeros(len(result))\n",
      "\n",
      "    for i in range(len(result)):\n",
      "        if df['ARR_DELAY'][i] >= cut:\n",
      "            Y[i] = 1\n",
      "\n",
      "    rfc = RandomForestClassifier(numTrees)\n",
      "    rfc = rfc.fit(X,Y)\n",
      "\n",
      "    early_to_late.append(rfc.predict_proba(X))  \n",
      "    \n",
      "    print \"Cutoff: \"+str(cut)\n",
      "    \n",
      "    print \"Accuracy of trivial classification: \" + str(sum(list(Y)) / Y.shape[0])\n",
      "    \n",
      "    score = cross_val_score(rfc, X, Y, cv=5)\n",
      "    \n",
      "    print \"Cross Validation Score Mean: \"+str(np.mean(score))\n"
     ],
     "language": "python",
     "metadata": {},
     "outputs": [
      {
       "output_type": "stream",
       "stream": "stdout",
       "text": [
        "Cutoff: -15\n",
        "Accuracy of trivial classification: 0.765271160572"
       ]
      },
      {
       "output_type": "stream",
       "stream": "stdout",
       "text": [
        "\n",
        "Cross Validation Score Mean: 0.714917700855"
       ]
      },
      {
       "output_type": "stream",
       "stream": "stdout",
       "text": [
        "\n",
        "Cutoff: -10"
       ]
      },
      {
       "output_type": "stream",
       "stream": "stdout",
       "text": [
        "\n",
        "Accuracy of trivial classification: 0.626422947158"
       ]
      },
      {
       "output_type": "stream",
       "stream": "stdout",
       "text": [
        "\n",
        "Cross Validation Score Mean: 0.625020539644"
       ]
      },
      {
       "output_type": "stream",
       "stream": "stdout",
       "text": [
        "\n",
        "Cutoff: -5"
       ]
      },
      {
       "output_type": "stream",
       "stream": "stdout",
       "text": [
        "\n",
        "Accuracy of trivial classification: 0.489039050837"
       ]
      },
      {
       "output_type": "stream",
       "stream": "stdout",
       "text": [
        "\n",
        "Cross Validation Score Mean: 0.614808412853"
       ]
      },
      {
       "output_type": "stream",
       "stream": "stdout",
       "text": [
        "\n",
        "Cutoff: 0"
       ]
      },
      {
       "output_type": "stream",
       "stream": "stdout",
       "text": [
        "\n",
        "Accuracy of trivial classification: 0.376412827894"
       ]
      },
      {
       "output_type": "stream",
       "stream": "stdout",
       "text": [
        "\n",
        "Cross Validation Score Mean: 0.66192846965"
       ]
      },
      {
       "output_type": "stream",
       "stream": "stdout",
       "text": [
        "\n",
        "Cutoff: 5"
       ]
      },
      {
       "output_type": "stream",
       "stream": "stdout",
       "text": [
        "\n",
        "Accuracy of trivial classification: 0.292608651138"
       ]
      },
      {
       "output_type": "stream",
       "stream": "stdout",
       "text": [
        "\n",
        "Cross Validation Score Mean: 0.72169641367"
       ]
      },
      {
       "output_type": "stream",
       "stream": "stdout",
       "text": [
        "\n",
        "Cutoff: 10"
       ]
      },
      {
       "output_type": "stream",
       "stream": "stdout",
       "text": [
        "\n",
        "Accuracy of trivial classification: 0.231893064375"
       ]
      },
      {
       "output_type": "stream",
       "stream": "stdout",
       "text": [
        "\n",
        "Cross Validation Score Mean: 0.774626123049"
       ]
      },
      {
       "output_type": "stream",
       "stream": "stdout",
       "text": [
        "\n",
        "Cutoff: 15"
       ]
      },
      {
       "output_type": "stream",
       "stream": "stdout",
       "text": [
        "\n",
        "Accuracy of trivial classification: 0.188937381992"
       ]
      },
      {
       "output_type": "stream",
       "stream": "stdout",
       "text": [
        "\n",
        "Cross Validation Score Mean: 0.8161246335"
       ]
      },
      {
       "output_type": "stream",
       "stream": "stdout",
       "text": [
        "\n"
       ]
      }
     ],
     "prompt_number": 30
    },
    {
     "cell_type": "heading",
     "level": 2,
     "metadata": {},
     "source": [
      "Use this to Run Model with a Specific Cutoff (on Test Data)"
     ]
    },
    {
     "cell_type": "code",
     "collapsed": false,
     "input": [
      "#FOR TEST DATA\n",
      "\n",
      "cutoff = 0 #insert cutoff here\n",
      "\n",
      "A = newresult.as_matrix()\n",
      "B = np.zeros(len(newresult))\n",
      "\n",
      "for i in range(len(newresult)):\n",
      "    if df2['ARR_DELAY'][i] >= cutoff:\n",
      "        B[i] = 1\n",
      "print B\n",
      "\n",
      "rfc = RandomForestClassifier(numTrees)\n",
      "rfc = rfc.fit(X,Y)\n",
      "\n",
      "nameOfMatrixGoesHere = rfc.predict_proba(A)\n",
      "nameOfMatrixGoesHere"
     ],
     "language": "python",
     "metadata": {},
     "outputs": [
      {
       "output_type": "stream",
       "stream": "stdout",
       "text": [
        "[ 0.  0.  0. ...,  1.  1.  0.]\n"
       ]
      },
      {
       "ename": "NameError",
       "evalue": "name 'X' is not defined",
       "output_type": "pyerr",
       "traceback": [
        "\u001b[0;31m---------------------------------------------------------------------------\u001b[0m\n\u001b[0;31mNameError\u001b[0m                                 Traceback (most recent call last)",
        "\u001b[0;32m<ipython-input-26-4886c1b17e24>\u001b[0m in \u001b[0;36m<module>\u001b[0;34m()\u001b[0m\n\u001b[1;32m     12\u001b[0m \u001b[0;34m\u001b[0m\u001b[0m\n\u001b[1;32m     13\u001b[0m \u001b[0mrfc\u001b[0m \u001b[0;34m=\u001b[0m \u001b[0mRandomForestClassifier\u001b[0m\u001b[0;34m(\u001b[0m\u001b[0mnumTrees\u001b[0m\u001b[0;34m)\u001b[0m\u001b[0;34m\u001b[0m\u001b[0m\n\u001b[0;32m---> 14\u001b[0;31m \u001b[0mrfc\u001b[0m \u001b[0;34m=\u001b[0m \u001b[0mrfc\u001b[0m\u001b[0;34m.\u001b[0m\u001b[0mfit\u001b[0m\u001b[0;34m(\u001b[0m\u001b[0mX\u001b[0m\u001b[0;34m,\u001b[0m\u001b[0mY\u001b[0m\u001b[0;34m)\u001b[0m\u001b[0;34m\u001b[0m\u001b[0m\n\u001b[0m\u001b[1;32m     15\u001b[0m \u001b[0;34m\u001b[0m\u001b[0m\n\u001b[1;32m     16\u001b[0m \u001b[0mnameOfMatrixGoesHere\u001b[0m \u001b[0;34m=\u001b[0m \u001b[0mrfc\u001b[0m\u001b[0;34m.\u001b[0m\u001b[0mpredict_proba\u001b[0m\u001b[0;34m(\u001b[0m\u001b[0mA\u001b[0m\u001b[0;34m)\u001b[0m\u001b[0;34m\u001b[0m\u001b[0m\n",
        "\u001b[0;31mNameError\u001b[0m: name 'X' is not defined"
       ]
      }
     ],
     "prompt_number": 26
    },
    {
     "cell_type": "code",
     "collapsed": false,
     "input": [
      "A.shape"
     ],
     "language": "python",
     "metadata": {},
     "outputs": [
      {
       "metadata": {},
       "output_type": "pyout",
       "prompt_number": 55,
       "text": [
        "(202368, 23)"
       ]
      }
     ],
     "prompt_number": 55
    },
    {
     "cell_type": "heading",
     "level": 2,
     "metadata": {},
     "source": [
      "Use this to Run Model with a List of Cutoffs (on Test Data)"
     ]
    },
    {
     "cell_type": "code",
     "collapsed": false,
     "input": [
      "#FOR TEST DATA\n",
      "\n",
      "cutoff = 0 #insert cutoff here\n",
      "\n",
      "A = newresult.as_matrix()\n",
      "B = np.zeros(len(newresult))\n",
      "\n",
      "for i in range(len(newresult)):\n",
      "    if df2['ARR_DELAY'][i] >= cutoff:\n",
      "        B[i] = 1\n",
      "print B\n",
      "\n",
      "rfc = RandomForestClassifier(numTrees)\n",
      "rfc = rfc.fit(X,Y)\n",
      "\n",
      "nameOfMatrixGoesHere = rfc.predict_proba(A)\n",
      "nameOfMatrixGoesHere"
     ],
     "language": "python",
     "metadata": {},
     "outputs": []
    },
    {
     "cell_type": "code",
     "collapsed": false,
     "input": [
      "# move all the test data stuff separated out at the end\n",
      "    "
     ],
     "language": "python",
     "metadata": {},
     "outputs": []
    }
   ],
   "metadata": {}
  }
 ]
}