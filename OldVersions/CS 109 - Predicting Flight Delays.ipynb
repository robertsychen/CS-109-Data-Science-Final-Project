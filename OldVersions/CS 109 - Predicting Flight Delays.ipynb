{
 "metadata": {
  "name": "",
  "signature": "sha256:141e595d35eb17a7253d8f3ff532655b7e027daf4263b92f4ba8768887114159"
 },
 "nbformat": 3,
 "nbformat_minor": 0,
 "worksheets": [
  {
   "cells": [
    {
     "cell_type": "heading",
     "level": 1,
     "metadata": {},
     "source": [
      "Importing Libraries"
     ]
    },
    {
     "cell_type": "code",
     "collapsed": false,
     "input": [
      "import numpy as np\n",
      "import scipy as sp\n",
      "import pandas as pd\n",
      "import sklearn\n",
      "import seaborn as sns\n",
      "from matplotlib import pyplot as plt\n",
      "\n",
      "%matplotlib inline\n",
      "\n",
      "file_location = '/Users/evanyao/CS109AnnieEvanRobert-/ToFromBOSTrainingData.csv'"
     ],
     "language": "python",
     "metadata": {},
     "outputs": [],
     "prompt_number": 231
    },
    {
     "cell_type": "code",
     "collapsed": false,
     "input": [
      "df = pd.read_csv(file_location)"
     ],
     "language": "python",
     "metadata": {},
     "outputs": [],
     "prompt_number": 232
    },
    {
     "cell_type": "code",
     "collapsed": false,
     "input": [
      "df.head()\n",
      "df.info()"
     ],
     "language": "python",
     "metadata": {},
     "outputs": [
      {
       "output_type": "stream",
       "stream": "stdout",
       "text": [
        "<class 'pandas.core.frame.DataFrame'>\n",
        "Int64Index: 426112 entries, 0 to 426111\n",
        "Data columns (total 46 columns):\n",
        "ACTUAL_ELAPSED_TIME      419035 non-null float64\n",
        "AIRLINE_ID               426112 non-null int64\n",
        "AIR_TIME                 419035 non-null float64\n",
        "ARR_DELAY                419035 non-null float64\n",
        "ARR_DELAY_NEW            204931 non-null float64\n",
        "ARR_TIME                 419667 non-null float64\n",
        "CANCELLATION_CODE        6384 non-null object\n",
        "CANCELLED                426112 non-null int64\n",
        "CARRIER_DELAY            79352 non-null float64\n",
        "CRS_ARR_TIME             426112 non-null int64\n",
        "CRS_DEP_TIME             426112 non-null int64\n",
        "DAY_OF_MONTH             426112 non-null int64\n",
        "DAY_OF_WEEK              426112 non-null int64\n",
        "DEP_DELAY                419991 non-null float64\n",
        "DEP_TIME                 419991 non-null float64\n",
        "DEST                     426112 non-null object\n",
        "DEST_AIRPORT_ID          426112 non-null int64\n",
        "DEST_AIRPORT_SEQ_ID      426112 non-null int64\n",
        "DEST_CITY_MARKET_ID      426112 non-null int64\n",
        "DEST_CITY_NAME           426112 non-null object\n",
        "DEST_STATE_ABR           426112 non-null object\n",
        "DISTANCE                 426112 non-null int64\n",
        "FIRST_DEP_TIME           1347 non-null float64\n",
        "FLIGHTS                  426112 non-null int64\n",
        "FL_DATE                  426112 non-null object\n",
        "FL_NUM                   426112 non-null int64\n",
        "LATE_AIRCRAFT_DELAY      79352 non-null float64\n",
        "MONTH                    426112 non-null int64\n",
        "NAS_DELAY                79352 non-null float64\n",
        "ORIGIN                   426112 non-null object\n",
        "ORIGIN_AIRPORT_ID        426112 non-null int64\n",
        "ORIGIN_AIRPORT_SEQ_ID    426112 non-null int64\n",
        "ORIGIN_CITY_MARKET_ID    426112 non-null int64\n",
        "ORIGIN_CITY_NAME         426112 non-null object\n",
        "ORIGIN_STATE_ABR         426112 non-null object\n",
        "SECURITY_DELAY           79352 non-null float64\n",
        "TAIL_NUM                 423269 non-null object\n",
        "TAXI_IN                  419667 non-null float64\n",
        "TAXI_OUT                 419760 non-null float64\n",
        "UNIQUE_CARRIER           207277 non-null object\n",
        "Unnamed: 41              0 non-null float64\n",
        "Unnamed: 44              0 non-null float64\n",
        "WEATHER_DELAY            79352 non-null float64\n",
        "WHEELS_OFF               419760 non-null float64\n",
        "WHEELS_ON                419667 non-null float64\n",
        "YEAR                     426112 non-null int64\n",
        "dtypes: float64(19), int64(17), object(10)"
       ]
      }
     ],
     "prompt_number": 233
    },
    {
     "cell_type": "code",
     "collapsed": false,
     "input": [
      "# Dropping all rows with NaN in the DEP_TIME or ARR_DELAY columns. \n",
      "df = df.dropna(subset=['DEP_TIME', 'ARR_DELAY'], how='all')\n",
      "\n",
      "# Resetting index \n",
      "df['Index'] = range(len(df))\n",
      "df = df.set_index('Index')\n",
      "\n",
      "df.head()"
     ],
     "language": "python",
     "metadata": {},
     "outputs": [
      {
       "html": [
        "<div style=\"max-height:1000px;max-width:1500px;overflow:auto;\">\n",
        "<table border=\"1\" class=\"dataframe\">\n",
        "  <thead>\n",
        "    <tr style=\"text-align: right;\">\n",
        "      <th></th>\n",
        "      <th>ACTUAL_ELAPSED_TIME</th>\n",
        "      <th>AIRLINE_ID</th>\n",
        "      <th>AIR_TIME</th>\n",
        "      <th>ARR_DELAY</th>\n",
        "      <th>ARR_DELAY_NEW</th>\n",
        "      <th>ARR_TIME</th>\n",
        "      <th>CANCELLATION_CODE</th>\n",
        "      <th>CANCELLED</th>\n",
        "      <th>CARRIER_DELAY</th>\n",
        "      <th>CRS_ARR_TIME</th>\n",
        "      <th>...</th>\n",
        "      <th>TAIL_NUM</th>\n",
        "      <th>TAXI_IN</th>\n",
        "      <th>TAXI_OUT</th>\n",
        "      <th>UNIQUE_CARRIER</th>\n",
        "      <th>Unnamed: 41</th>\n",
        "      <th>Unnamed: 44</th>\n",
        "      <th>WEATHER_DELAY</th>\n",
        "      <th>WHEELS_OFF</th>\n",
        "      <th>WHEELS_ON</th>\n",
        "      <th>YEAR</th>\n",
        "    </tr>\n",
        "    <tr>\n",
        "      <th>Index</th>\n",
        "      <th></th>\n",
        "      <th></th>\n",
        "      <th></th>\n",
        "      <th></th>\n",
        "      <th></th>\n",
        "      <th></th>\n",
        "      <th></th>\n",
        "      <th></th>\n",
        "      <th></th>\n",
        "      <th></th>\n",
        "      <th></th>\n",
        "      <th></th>\n",
        "      <th></th>\n",
        "      <th></th>\n",
        "      <th></th>\n",
        "      <th></th>\n",
        "      <th></th>\n",
        "      <th></th>\n",
        "      <th></th>\n",
        "      <th></th>\n",
        "      <th></th>\n",
        "    </tr>\n",
        "  </thead>\n",
        "  <tbody>\n",
        "    <tr>\n",
        "      <th>0</th>\n",
        "      <td> 192</td>\n",
        "      <td> 19790</td>\n",
        "      <td> 147</td>\n",
        "      <td> 17</td>\n",
        "      <td> 17</td>\n",
        "      <td> 1025</td>\n",
        "      <td> NaN</td>\n",
        "      <td> 0</td>\n",
        "      <td>  0</td>\n",
        "      <td> 1008</td>\n",
        "      <td>...</td>\n",
        "      <td> N632DL</td>\n",
        "      <td> 19</td>\n",
        "      <td> 26</td>\n",
        "      <td> DL</td>\n",
        "      <td>NaN</td>\n",
        "      <td>NaN</td>\n",
        "      <td>  0</td>\n",
        "      <td>  739</td>\n",
        "      <td> 1006</td>\n",
        "      <td> 2011</td>\n",
        "    </tr>\n",
        "    <tr>\n",
        "      <th>1</th>\n",
        "      <td> 122</td>\n",
        "      <td> 19790</td>\n",
        "      <td> 105</td>\n",
        "      <td> -3</td>\n",
        "      <td>  0</td>\n",
        "      <td> 1624</td>\n",
        "      <td> NaN</td>\n",
        "      <td> 0</td>\n",
        "      <td>NaN</td>\n",
        "      <td> 1627</td>\n",
        "      <td>...</td>\n",
        "      <td> N385DN</td>\n",
        "      <td>  6</td>\n",
        "      <td> 11</td>\n",
        "      <td> DL</td>\n",
        "      <td>NaN</td>\n",
        "      <td>NaN</td>\n",
        "      <td>NaN</td>\n",
        "      <td> 1433</td>\n",
        "      <td> 1618</td>\n",
        "      <td> 2011</td>\n",
        "    </tr>\n",
        "    <tr>\n",
        "      <th>2</th>\n",
        "      <td> 177</td>\n",
        "      <td> 19790</td>\n",
        "      <td> 143</td>\n",
        "      <td> 13</td>\n",
        "      <td> 13</td>\n",
        "      <td> 1745</td>\n",
        "      <td> NaN</td>\n",
        "      <td> 0</td>\n",
        "      <td>NaN</td>\n",
        "      <td> 1732</td>\n",
        "      <td>...</td>\n",
        "      <td> N525US</td>\n",
        "      <td> 10</td>\n",
        "      <td> 24</td>\n",
        "      <td> DL</td>\n",
        "      <td>NaN</td>\n",
        "      <td>NaN</td>\n",
        "      <td>NaN</td>\n",
        "      <td> 1512</td>\n",
        "      <td> 1735</td>\n",
        "      <td> 2011</td>\n",
        "    </tr>\n",
        "    <tr>\n",
        "      <th>3</th>\n",
        "      <td> 129</td>\n",
        "      <td> 19790</td>\n",
        "      <td> 103</td>\n",
        "      <td>-13</td>\n",
        "      <td>  0</td>\n",
        "      <td> 2029</td>\n",
        "      <td> NaN</td>\n",
        "      <td> 0</td>\n",
        "      <td>NaN</td>\n",
        "      <td> 2042</td>\n",
        "      <td>...</td>\n",
        "      <td> N318US</td>\n",
        "      <td> 11</td>\n",
        "      <td> 15</td>\n",
        "      <td> DL</td>\n",
        "      <td>NaN</td>\n",
        "      <td>NaN</td>\n",
        "      <td>NaN</td>\n",
        "      <td> 1835</td>\n",
        "      <td> 2018</td>\n",
        "      <td> 2011</td>\n",
        "    </tr>\n",
        "    <tr>\n",
        "      <th>4</th>\n",
        "      <td> 125</td>\n",
        "      <td> 19790</td>\n",
        "      <td>  98</td>\n",
        "      <td>-13</td>\n",
        "      <td>  0</td>\n",
        "      <td>  845</td>\n",
        "      <td> NaN</td>\n",
        "      <td> 0</td>\n",
        "      <td>NaN</td>\n",
        "      <td>  858</td>\n",
        "      <td>...</td>\n",
        "      <td> N352NB</td>\n",
        "      <td> 12</td>\n",
        "      <td> 15</td>\n",
        "      <td> DL</td>\n",
        "      <td>NaN</td>\n",
        "      <td>NaN</td>\n",
        "      <td>NaN</td>\n",
        "      <td>  655</td>\n",
        "      <td>  833</td>\n",
        "      <td> 2011</td>\n",
        "    </tr>\n",
        "  </tbody>\n",
        "</table>\n",
        "<p>5 rows \u00d7 46 columns</p>\n",
        "</div>"
       ],
       "metadata": {},
       "output_type": "pyout",
       "prompt_number": 234,
       "text": [
        "       ACTUAL_ELAPSED_TIME  AIRLINE_ID  AIR_TIME  ARR_DELAY  ARR_DELAY_NEW  \\\n",
        "Index                                                                        \n",
        "0                      192       19790       147         17             17   \n",
        "1                      122       19790       105         -3              0   \n",
        "2                      177       19790       143         13             13   \n",
        "3                      129       19790       103        -13              0   \n",
        "4                      125       19790        98        -13              0   \n",
        "\n",
        "       ARR_TIME CANCELLATION_CODE  CANCELLED  CARRIER_DELAY  CRS_ARR_TIME  \\\n",
        "Index                                                                       \n",
        "0          1025               NaN          0              0          1008   \n",
        "1          1624               NaN          0            NaN          1627   \n",
        "2          1745               NaN          0            NaN          1732   \n",
        "3          2029               NaN          0            NaN          2042   \n",
        "4           845               NaN          0            NaN           858   \n",
        "\n",
        "           ...       TAIL_NUM  TAXI_IN  TAXI_OUT  UNIQUE_CARRIER  Unnamed: 41  \\\n",
        "Index      ...                                                                  \n",
        "0          ...         N632DL       19        26              DL          NaN   \n",
        "1          ...         N385DN        6        11              DL          NaN   \n",
        "2          ...         N525US       10        24              DL          NaN   \n",
        "3          ...         N318US       11        15              DL          NaN   \n",
        "4          ...         N352NB       12        15              DL          NaN   \n",
        "\n",
        "      Unnamed: 44  WEATHER_DELAY  WHEELS_OFF  WHEELS_ON  YEAR  \n",
        "Index                                                          \n",
        "0             NaN              0         739       1006  2011  \n",
        "1             NaN            NaN        1433       1618  2011  \n",
        "2             NaN            NaN        1512       1735  2011  \n",
        "3             NaN            NaN        1835       2018  2011  \n",
        "4             NaN            NaN         655        833  2011  \n",
        "\n",
        "[5 rows x 46 columns]"
       ]
      }
     ],
     "prompt_number": 234
    },
    {
     "cell_type": "heading",
     "level": 1,
     "metadata": {},
     "source": [
      "Encoding Variables "
     ]
    },
    {
     "cell_type": "markdown",
     "metadata": {},
     "source": [
      "Scikit's Random Forests only works on numerical values. Therefore, we will be converting categorical variables to binary dummy variables. For example, one column of our data might say \"Is on Monday\" and a 1 would be yes, while a 0 would be no. "
     ]
    },
    {
     "cell_type": "heading",
     "level": 2,
     "metadata": {},
     "source": [
      "Demonstration of OneHotEncoder (for Annie and Robert)"
     ]
    },
    {
     "cell_type": "code",
     "collapsed": false,
     "input": [
      "from sklearn import preprocessing\n",
      "\n",
      "test = preprocessing.OneHotEncoder()\n",
      "test.fit([[1,2,3], [4,5,6], [7,8,9]])\n",
      "\n",
      "test.transform([[1,2,3], [5,5,5]]).toarray()"
     ],
     "language": "python",
     "metadata": {},
     "outputs": [
      {
       "metadata": {},
       "output_type": "pyout",
       "prompt_number": 259,
       "text": [
        "array([[ 1.,  0.,  0.,  1.,  0.,  0.,  1.,  0.,  0.],\n",
        "       [ 0.,  0.,  0.,  0.,  1.,  0.,  0.,  0.,  0.]])"
       ]
      }
     ],
     "prompt_number": 259
    },
    {
     "cell_type": "markdown",
     "metadata": {},
     "source": [
      "For each element in the matrix to be transformed, we compare the first element with all the first elements of what has been fitted. We record a 1 for a match, and a 0 for a fail. After comparing the first element with all the first elements, we move on to the second element. "
     ]
    },
    {
     "cell_type": "code",
     "collapsed": false,
     "input": [
      "test.fit([[1],[2],[3]])\n",
      "test.transform([[1],[3],[2]]).toarray()"
     ],
     "language": "python",
     "metadata": {},
     "outputs": [
      {
       "metadata": {},
       "output_type": "pyout",
       "prompt_number": 261,
       "text": [
        "array([[ 1.,  0.,  0.],\n",
        "       [ 0.,  0.,  1.],\n",
        "       [ 0.,  1.,  0.]])"
       ]
      }
     ],
     "prompt_number": 261
    },
    {
     "cell_type": "markdown",
     "metadata": {},
     "source": [
      "The abvoe demonstrates how I will use OneHotEncoder in the code below"
     ]
    },
    {
     "cell_type": "heading",
     "level": 2,
     "metadata": {},
     "source": [
      "Day of the Week"
     ]
    },
    {
     "cell_type": "code",
     "collapsed": false,
     "input": [
      "from sklearn import preprocessing\n",
      "\n",
      "days = df['DAY_OF_WEEK']\n",
      "\n",
      "# it is necessary to change the format of the days to [[1], [3], [7]...] rather than [1,3,7...] \n",
      "days = [[days[i]] for i in range(len(days))]\n",
      "ohe = preprocessing.OneHotEncoder()\n",
      "\n",
      "# Both the fitting and transform data must be in the form [[1], [3], [7]...]\n",
      "ohe.fit([[i] for i in range(1,8)])\n",
      "\n",
      "day_encoding = ohe.transform(days).toarray()\n",
      "print day_encoding"
     ],
     "language": "python",
     "metadata": {},
     "outputs": [
      {
       "output_type": "stream",
       "stream": "stdout",
       "text": [
        "[[ 0.  0.  0. ...,  1.  0.  0.]\n",
        " [ 0.  0.  0. ...,  1.  0.  0.]\n",
        " [ 0.  0.  0. ...,  1.  0.  0.]\n",
        " ..., \n",
        " [ 0.  0.  0. ...,  0.  0.  1.]\n",
        " [ 0.  0.  0. ...,  0.  0.  1.]\n",
        " [ 0.  0.  1. ...,  0.  0.  0.]]\n"
       ]
      }
     ],
     "prompt_number": 236
    },
    {
     "cell_type": "heading",
     "level": 2,
     "metadata": {},
     "source": [
      "Airline Carrier"
     ]
    },
    {
     "cell_type": "code",
     "collapsed": false,
     "input": [
      "airline_id = df['AIRLINE_ID']\n",
      "\n",
      "# LabelEncoder allows us to more easily turn categorical data into [1,2,3,4...] to then be used for OneHotEncoder\n",
      "le = preprocessing.LabelEncoder()\n",
      "\n",
      "# Extract all the unique items and fit to LabelEncoder \n",
      "airline_ids = list(set(airline_id))\n",
      "le.fit(airline_ids)\n",
      "\n",
      "# Converts airline id's : [13842, 34984, ...] to labels : [3, 5, 1 ...]\n",
      "carrier_labels = le.transform(airline_id)\n",
      "\n",
      "# Extract all the unique labels and change to the [[1], [2], [3]...] format for feeding into OneHotEncoder\n",
      "carrier_list = list(set(carrier_labels))\n",
      "carrier_list = [[carrier_labels[i]] for i in range(len(carrier_labels))]\n",
      "\n",
      "# Using OneHotEncoder to fit the modified unique carrier_list\n",
      "ohe2 = preprocessing.OneHotEncoder()\n",
      "ohe2.fit(carrier_list)\n",
      "\n",
      "# Convert format \n",
      "carrier_labels = [[carrier_labels[i]] for i in range(len(carrier_labels))]\n",
      "\n",
      "airline_encoding = ohe2.transform(carrier_labels).toarray()\n",
      "print airline_encoding"
     ],
     "language": "python",
     "metadata": {},
     "outputs": [
      {
       "output_type": "stream",
       "stream": "stdout",
       "text": [
        "[[ 0.  0.  1. ...,  0.  0.  0.]\n",
        " [ 0.  0.  1. ...,  0.  0.  0.]\n",
        " [ 0.  0.  1. ...,  0.  0.  0.]\n",
        " ..., \n",
        " [ 0.  0.  0. ...,  0.  0.  0.]\n",
        " [ 0.  0.  0. ...,  0.  0.  0.]\n",
        " [ 0.  0.  0. ...,  0.  0.  0.]]\n"
       ]
      }
     ],
     "prompt_number": 237
    },
    {
     "cell_type": "heading",
     "level": 2,
     "metadata": {},
     "source": [
      "Time of Day"
     ]
    },
    {
     "cell_type": "markdown",
     "metadata": {},
     "source": [
      "Note: Random Forests can only be performed on at most 32 columns at once. We have 7 from the days of the week, and 17 from the carrier. Therefore, for now, we will treat time of day as a continuous variable. This okay because there are very few flights to/from BOS between 2 and 5 am. Therefore, I will translate the times to number of hours after 5 am. "
     ]
    },
    {
     "cell_type": "code",
     "collapsed": false,
     "input": [
      "time = df['DEP_TIME']\n",
      "\n",
      "for i in range(len(time)):\n",
      "    old_time = time[i] \n",
      "    \n",
      "    # If the time is before midnight, then simply subtract 500 from it \n",
      "    if old_time <= 2359 and old_time >= 500:\n",
      "        new_time = old_time - 500\n",
      "    # Otherwise, the time must be between 000 and 500, so simply add 2400 - 500 = 1900\n",
      "    else: \n",
      "        new_time = old_time + 2400 - 500\n",
      "        \n",
      "    # Conversion from MMHH to \"Number of Hours since 5 AM\"\n",
      "    time[i] = (new_time % 100)/ 60.0 + new_time / 100"
     ],
     "language": "python",
     "metadata": {},
     "outputs": [],
     "prompt_number": 238
    },
    {
     "cell_type": "heading",
     "level": 2,
     "metadata": {},
     "source": [
      "Distance"
     ]
    },
    {
     "cell_type": "code",
     "collapsed": false,
     "input": [
      "distance = df['DISTANCE']"
     ],
     "language": "python",
     "metadata": {},
     "outputs": [],
     "prompt_number": 240
    },
    {
     "cell_type": "heading",
     "level": 1,
     "metadata": {},
     "source": [
      "Analysis"
     ]
    },
    {
     "cell_type": "heading",
     "level": 2,
     "metadata": {},
     "source": [
      "Merging DataFrames"
     ]
    },
    {
     "cell_type": "code",
     "collapsed": false,
     "input": [
      "result = pd.DataFrame(time)\n",
      "\n",
      "result = result.join(distance)\n",
      "result = result.join(pd.DataFrame(day_encoding))\n",
      "\n",
      "# Purpose: problems occur if you join data frames with the same column names (0,1,2,3...)\n",
      "result.columns = ['DEP_TIME since 5am', 'DISTANCE', 'MON', 'TUE', 'WED', 'THU', 'FRI', 'SAT', 'SUN']\n",
      "result = result.join(pd.DataFrame(airline_encoding))\n",
      "\n",
      "result.head()"
     ],
     "language": "python",
     "metadata": {},
     "outputs": [
      {
       "html": [
        "<div style=\"max-height:1000px;max-width:1500px;overflow:auto;\">\n",
        "<table border=\"1\" class=\"dataframe\">\n",
        "  <thead>\n",
        "    <tr style=\"text-align: right;\">\n",
        "      <th></th>\n",
        "      <th>DEP_TIME</th>\n",
        "      <th>DISTANCE</th>\n",
        "      <th>MON</th>\n",
        "      <th>TUE</th>\n",
        "      <th>WED</th>\n",
        "      <th>THU</th>\n",
        "      <th>FRI</th>\n",
        "      <th>SAT</th>\n",
        "      <th>SUN</th>\n",
        "      <th>0</th>\n",
        "      <th>...</th>\n",
        "      <th>7</th>\n",
        "      <th>8</th>\n",
        "      <th>9</th>\n",
        "      <th>10</th>\n",
        "      <th>11</th>\n",
        "      <th>12</th>\n",
        "      <th>13</th>\n",
        "      <th>14</th>\n",
        "      <th>15</th>\n",
        "      <th>16</th>\n",
        "    </tr>\n",
        "    <tr>\n",
        "      <th>Index</th>\n",
        "      <th></th>\n",
        "      <th></th>\n",
        "      <th></th>\n",
        "      <th></th>\n",
        "      <th></th>\n",
        "      <th></th>\n",
        "      <th></th>\n",
        "      <th></th>\n",
        "      <th></th>\n",
        "      <th></th>\n",
        "      <th></th>\n",
        "      <th></th>\n",
        "      <th></th>\n",
        "      <th></th>\n",
        "      <th></th>\n",
        "      <th></th>\n",
        "      <th></th>\n",
        "      <th></th>\n",
        "      <th></th>\n",
        "      <th></th>\n",
        "      <th></th>\n",
        "    </tr>\n",
        "  </thead>\n",
        "  <tbody>\n",
        "    <tr>\n",
        "      <th>0</th>\n",
        "      <td>  2.346667</td>\n",
        "      <td> 946</td>\n",
        "      <td> 0</td>\n",
        "      <td> 0</td>\n",
        "      <td> 0</td>\n",
        "      <td> 0</td>\n",
        "      <td> 1</td>\n",
        "      <td> 0</td>\n",
        "      <td> 0</td>\n",
        "      <td> 0</td>\n",
        "      <td>...</td>\n",
        "      <td> 0</td>\n",
        "      <td> 0</td>\n",
        "      <td> 0</td>\n",
        "      <td> 0</td>\n",
        "      <td> 0</td>\n",
        "      <td> 0</td>\n",
        "      <td> 0</td>\n",
        "      <td> 0</td>\n",
        "      <td> 0</td>\n",
        "      <td> 0</td>\n",
        "    </tr>\n",
        "    <tr>\n",
        "      <th>1</th>\n",
        "      <td>  9.586667</td>\n",
        "      <td> 632</td>\n",
        "      <td> 0</td>\n",
        "      <td> 0</td>\n",
        "      <td> 0</td>\n",
        "      <td> 0</td>\n",
        "      <td> 1</td>\n",
        "      <td> 0</td>\n",
        "      <td> 0</td>\n",
        "      <td> 0</td>\n",
        "      <td>...</td>\n",
        "      <td> 0</td>\n",
        "      <td> 0</td>\n",
        "      <td> 0</td>\n",
        "      <td> 0</td>\n",
        "      <td> 0</td>\n",
        "      <td> 0</td>\n",
        "      <td> 0</td>\n",
        "      <td> 0</td>\n",
        "      <td> 0</td>\n",
        "      <td> 0</td>\n",
        "    </tr>\n",
        "    <tr>\n",
        "      <th>2</th>\n",
        "      <td> 10.280000</td>\n",
        "      <td> 946</td>\n",
        "      <td> 0</td>\n",
        "      <td> 0</td>\n",
        "      <td> 0</td>\n",
        "      <td> 0</td>\n",
        "      <td> 1</td>\n",
        "      <td> 0</td>\n",
        "      <td> 0</td>\n",
        "      <td> 0</td>\n",
        "      <td>...</td>\n",
        "      <td> 0</td>\n",
        "      <td> 0</td>\n",
        "      <td> 0</td>\n",
        "      <td> 0</td>\n",
        "      <td> 0</td>\n",
        "      <td> 0</td>\n",
        "      <td> 0</td>\n",
        "      <td> 0</td>\n",
        "      <td> 0</td>\n",
        "      <td> 0</td>\n",
        "    </tr>\n",
        "    <tr>\n",
        "      <th>3</th>\n",
        "      <td> 13.533333</td>\n",
        "      <td> 632</td>\n",
        "      <td> 0</td>\n",
        "      <td> 0</td>\n",
        "      <td> 0</td>\n",
        "      <td> 0</td>\n",
        "      <td> 1</td>\n",
        "      <td> 0</td>\n",
        "      <td> 0</td>\n",
        "      <td> 0</td>\n",
        "      <td>...</td>\n",
        "      <td> 0</td>\n",
        "      <td> 0</td>\n",
        "      <td> 0</td>\n",
        "      <td> 0</td>\n",
        "      <td> 0</td>\n",
        "      <td> 0</td>\n",
        "      <td> 0</td>\n",
        "      <td> 0</td>\n",
        "      <td> 0</td>\n",
        "      <td> 0</td>\n",
        "    </tr>\n",
        "    <tr>\n",
        "      <th>4</th>\n",
        "      <td>  2.066667</td>\n",
        "      <td> 632</td>\n",
        "      <td> 0</td>\n",
        "      <td> 0</td>\n",
        "      <td> 0</td>\n",
        "      <td> 0</td>\n",
        "      <td> 1</td>\n",
        "      <td> 0</td>\n",
        "      <td> 0</td>\n",
        "      <td> 0</td>\n",
        "      <td>...</td>\n",
        "      <td> 0</td>\n",
        "      <td> 0</td>\n",
        "      <td> 0</td>\n",
        "      <td> 0</td>\n",
        "      <td> 0</td>\n",
        "      <td> 0</td>\n",
        "      <td> 0</td>\n",
        "      <td> 0</td>\n",
        "      <td> 0</td>\n",
        "      <td> 0</td>\n",
        "    </tr>\n",
        "  </tbody>\n",
        "</table>\n",
        "<p>5 rows \u00d7 26 columns</p>\n",
        "</div>"
       ],
       "metadata": {},
       "output_type": "pyout",
       "prompt_number": 241,
       "text": [
        "        DEP_TIME  DISTANCE  MON  TUE  WED  THU  FRI  SAT  SUN  0 ...  7  8  9  \\\n",
        "Index                                                            ...            \n",
        "0       2.346667       946    0    0    0    0    1    0    0  0 ...  0  0  0   \n",
        "1       9.586667       632    0    0    0    0    1    0    0  0 ...  0  0  0   \n",
        "2      10.280000       946    0    0    0    0    1    0    0  0 ...  0  0  0   \n",
        "3      13.533333       632    0    0    0    0    1    0    0  0 ...  0  0  0   \n",
        "4       2.066667       632    0    0    0    0    1    0    0  0 ...  0  0  0   \n",
        "\n",
        "       10  11  12  13  14  15  16  \n",
        "Index                              \n",
        "0       0   0   0   0   0   0   0  \n",
        "1       0   0   0   0   0   0   0  \n",
        "2       0   0   0   0   0   0   0  \n",
        "3       0   0   0   0   0   0   0  \n",
        "4       0   0   0   0   0   0   0  \n",
        "\n",
        "[5 rows x 26 columns]"
       ]
      }
     ],
     "prompt_number": 241
    },
    {
     "cell_type": "heading",
     "level": 2,
     "metadata": {},
     "source": [
      "Setting a Cutoff for Delay"
     ]
    },
    {
     "cell_type": "code",
     "collapsed": false,
     "input": [
      "X = result.as_matrix()\n",
      "Y = np.zeros(len(result))\n",
      "cutoff = 15 # minutes \n",
      "\n",
      "for i in range(len(result)):\n",
      "    if df['ARR_DELAY'][i] >= 15: \n",
      "        Y[i] = 1\n",
      "print Y"
     ],
     "language": "python",
     "metadata": {},
     "outputs": [
      {
       "output_type": "stream",
       "stream": "stdout",
       "text": [
        "[ 1.  0.  0. ...,  1.  0.  1.]\n"
       ]
      }
     ],
     "prompt_number": 242
    },
    {
     "cell_type": "code",
     "collapsed": false,
     "input": [
      "from sklearn.ensemble import RandomForestClassifier\n",
      "\n",
      "# Number of random forest decision trees to generate (note: k = 10 takes a while)\n",
      "k = 10\n",
      "\n",
      "rfc = RandomForestClassifier(k)\n",
      "rfc.fit(X,Y)"
     ],
     "language": "python",
     "metadata": {},
     "outputs": [
      {
       "metadata": {},
       "output_type": "pyout",
       "prompt_number": 247,
       "text": [
        "RandomForestClassifier(bootstrap=True, compute_importances=None,\n",
        "            criterion='gini', max_depth=None, max_features='auto',\n",
        "            max_leaf_nodes=None, min_density=None, min_samples_leaf=1,\n",
        "            min_samples_split=2, n_estimators=10, n_jobs=1,\n",
        "            oob_score=False, random_state=None, verbose=0)"
       ]
      }
     ],
     "prompt_number": 247
    },
    {
     "cell_type": "code",
     "collapsed": false,
     "input": [
      "from sklearn.cross_validation import cross_val_score\n",
      "\n",
      "# note: cv = 20 takes a long while to run! \n",
      "cv = 20\n",
      "scores = cross_val_score(rfc, X,Y, cv = cv)"
     ],
     "language": "python",
     "metadata": {},
     "outputs": [],
     "prompt_number": 252
    },
    {
     "cell_type": "code",
     "collapsed": false,
     "input": [
      "plt.hist(scores)\n",
      "plt.title(\"Accuracy for Random Forest with k = \" + str(k) + \"and cv = \" + str(cv))"
     ],
     "language": "python",
     "metadata": {},
     "outputs": [
      {
       "metadata": {},
       "output_type": "pyout",
       "prompt_number": 265,
       "text": [
        "<matplotlib.text.Text at 0x118d2c210>"
       ]
      },
      {
       "metadata": {},
       "output_type": "display_data",
       "png": "[encoded data removed]",
       "text": [
        "<matplotlib.figure.Figure at 0x122880890>"
       ]
      }
     ],
     "prompt_number": 265
    },
    {
     "cell_type": "markdown",
     "metadata": {},
     "source": [
      "**Remarks/Questions**: \n",
      "<ul> \n",
      "    <li> An accuracy around 0.80 seems not too bad, but we have to keep in mind that we're testing on the training set right now </li>\n",
      "    <li> Are there any other categorical variables (with FEW different possible values) or continuous variables that we would like to include? </li>\n",
      "    <li> Once we optimize this part of the analysis, we should use a 2-fold ensemble learning technique to take the probability of being delayed that the classifier assigns to each flight and produce a time estimate based on how likely the flight is more than 15 minutes delayed </li>\n",
      "    <li> Do we want to include parts of the weather (temperature, precipitation...etc.) as well? I could easily do that. </li>\n",
      "</ul>"
     ]
    },
    {
     "cell_type": "code",
     "collapsed": false,
     "input": [],
     "language": "python",
     "metadata": {},
     "outputs": []
    },
    {
     "cell_type": "code",
     "collapsed": false,
     "input": [],
     "language": "python",
     "metadata": {},
     "outputs": []
    },
    {
     "cell_type": "code",
     "collapsed": false,
     "input": [],
     "language": "python",
     "metadata": {},
     "outputs": []
    }
   ],
   "metadata": {}
  }
 ]
}