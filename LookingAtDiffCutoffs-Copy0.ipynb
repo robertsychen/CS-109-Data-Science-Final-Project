{
 "metadata": {
  "name": "",
  "signature": "sha256:d402881649110a19aa604b57f70abbb0121b4ebc5c7677fadf12bc3254e41481"
 },
 "nbformat": 3,
 "nbformat_minor": 0,
 "worksheets": [
  {
   "cells": [
    {
     "cell_type": "markdown",
     "metadata": {},
     "source": [
      "We will study how our model compares to the trivial classifications (saying all flights are delayed or all flights are on-time). We want to pick the delay cutoff that gives the largest difference between our model's accuracy and that of the trivial classifiction. "
     ]
    },
    {
     "cell_type": "code",
     "collapsed": false,
     "input": [
      "numTrees = 10\n",
      "\n",
      "# Storing all the Random Forest Classifiers\n",
      "rfcs = []\n",
      "\n",
      "# Range of values to be tested as the delay cutoff \n",
      "ranges = range(-15, 16, 5)\n",
      "\n",
      "# Arrays to keep track of model and trivial scores\n",
      "scores = [] \n",
      "trivial = []\n",
      "\n",
      "X = train_result.as_matrix()\n",
      "\n",
      "# Appens onto scores and trivial the appropriate cross_val score or the proportion of delays\n",
      "def analyzeDelayCutoff(cutoff): \n",
      "    Y = np.zeros(len(train_result))\n",
      "\n",
      "    # Creating a binary delay result\n",
      "    for i in range(len(train_result)):\n",
      "        if df['ARR_DELAY'][i] >= cutoff:\n",
      "            Y[i] = 1.0\n",
      "\n",
      "    rfc = RandomForestClassifier(numTrees)\n",
      "    rfc = rfc.fit(X,Y)\n",
      "\n",
      "    rfcs.append(rfc)\n",
      "    \n",
      "    # Trivial Accuracy \n",
      "    trivial.append(np.sum(Y)/len(Y))\n",
      "    \n",
      "    # Our Model's Accuracy \n",
      "    scores.append(np.mean(cross_val_score(rfc, X, Y, cv=5)))\n",
      "\n",
      "for i in ranges:\n",
      "    analyzeDelayCutoff(i)"
     ],
     "language": "python",
     "metadata": {},
     "outputs": [],
     "prompt_number": 125
    },
    {
     "cell_type": "code",
     "collapsed": false,
     "input": [
      "# Computes the cutoff with the largest difference in trivial and \n",
      "def TrivialVsModel(trivial, model):\n",
      "    differences = [model[i] - max(trivial[i], 1 - trivial[i]) for i in range(len(trivial))]\n",
      "    print differences \n",
      "    return differences.index(max(differences))\n",
      "\n",
      "TrivialVsModel(trivial, scores)"
     ],
     "language": "python",
     "metadata": {},
     "outputs": [
      {
       "output_type": "stream",
       "stream": "stdout",
       "text": [
        "[-0.092901900426661244, -0.056324939647607541, 0.045258162108585243, -0.021390934230849035, -0.037643629867858408, -0.040429398285027229, -0.036555546672778716]\n"
       ]
      },
      {
       "metadata": {},
       "output_type": "pyout",
       "prompt_number": 126,
       "text": [
        "2"
       ]
      }
     ],
     "prompt_number": 126
    },
    {
     "cell_type": "code",
     "collapsed": false,
     "input": [
      "x = [-0.092901900426661244, -0.056324939647607541, 0.045258162108585243, -0.021390934230849035, -0.037643629867858408, -0.040429398285027229, -0.036555546672778716]\n",
      "y = range(len(x))\n",
      "\n",
      "plt.scatter(y, x)"
     ],
     "language": "python",
     "metadata": {},
     "outputs": [
      {
       "metadata": {},
       "output_type": "pyout",
       "prompt_number": 127,
       "text": [
        "<matplotlib.collections.PathCollection at 0x176295ed0>"
       ]
      },
      {
       "metadata": {},
       "output_type": "display_data",
       "png": "[encoded data removed]",
       "text": [
        "<matplotlib.figure.Figure at 0x184d6add0>"
       ]
      }
     ],
     "prompt_number": 127
    },
    {
     "cell_type": "code",
     "collapsed": false,
     "input": [
      "ranges[2]"
     ],
     "language": "python",
     "metadata": {},
     "outputs": [
      {
       "metadata": {},
       "output_type": "pyout",
       "prompt_number": 129,
       "text": [
        "-5"
       ]
      }
     ],
     "prompt_number": 129
    },
    {
     "cell_type": "markdown",
     "metadata": {},
     "source": [
      "Uh oh! It seems like the best cutoff is -5. And even in that case, we only have a ~5% gain on the trivial predictions\n"
     ]
    }
   ],
   "metadata": {}
  }
 ]
}